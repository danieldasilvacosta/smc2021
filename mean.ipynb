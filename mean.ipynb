{
 "cells": [
  {
   "cell_type": "code",
   "execution_count": 1,
   "metadata": {},
   "outputs": [],
   "source": [
    "import pandas as pd\n",
    "import numpy as np\n",
    "import matplotlib.pyplot as plt\n",
    "import datetime"
   ]
  },
  {
   "cell_type": "code",
   "execution_count": 2,
   "metadata": {},
   "outputs": [],
   "source": [
    "import warnings\n",
    "warnings.filterwarnings(\"ignore\")"
   ]
  },
  {
   "cell_type": "code",
   "execution_count": 4,
   "metadata": {},
   "outputs": [],
   "source": [
    "fid1000 = [84.46, 85.87, 88.56, 79.64, 79.05, 89.77, 89.11, 92.05, 88.32]\n",
    "fid2500 = [83.12, 81.60, 87.68, 76.74, 76.29, 79.14, 76.75, 77.89, 85.01]\n",
    "fid5000 = [77.08, 80.92, 81.78, 71.10, 70.52, 73.93, 73.25, 75.28, 80.01]\n",
    "fid7500 = [74.86, 79.87, 79.01, 70.37, 70.52, 70.24, 65.42, 75.87, 73.76]\n",
    "fid10000 = [74.80, 74.11, 77.64, 71.44, 69.38, 74.39, 67.84, 72.39, 71.36]\n",
    "fid12500 = [76.49, 78.01, 77.45, 68.91, 72.80, 74.56, 70.06, 68.21, 70.58]\n",
    "fid15000 = [78.55, 81.88, 83.09, 73.76, 67.50, 72.75, 71.90, 78.31, 72.77]\n",
    "\n",
    "fidTest = [7, 10, 22]"
   ]
  },
  {
   "cell_type": "code",
   "execution_count": 5,
   "metadata": {},
   "outputs": [
    {
     "name": "stdout",
     "output_type": "stream",
     "text": [
      "Mean of fid1000: 86.31444444444443\n",
      "Mean of fid2500: 80.4688888888889\n",
      "Mean of fid5000: 75.98555555555555\n",
      "Mean of fid7500: 73.32444444444445\n",
      "Mean of fid10000: 72.59444444444445\n",
      "Mean of fid12500: 73.00777777777779\n",
      "Mean of fid15000: 75.61222222222221\n",
      "Mean of fidTest: 13.0\n"
     ]
    }
   ],
   "source": [
    "print(f'Mean of fid1000: {np.mean(fid1000)}')\n",
    "print(f'Mean of fid2500: {np.mean(fid2500)}')\n",
    "print(f'Mean of fid5000: {np.mean(fid5000)}')\n",
    "print(f'Mean of fid7500: {np.mean(fid7500)}')\n",
    "print(f'Mean of fid10000: {np.mean(fid10000)}')\n",
    "print(f'Mean of fid12500: {np.mean(fid12500)}')\n",
    "print(f'Mean of fid15000: {np.mean(fid15000)}')\n",
    "\n",
    "print(f'Mean of fidTest: {np.mean(fidTest)}')"
   ]
  },
  {
   "cell_type": "code",
   "execution_count": 5,
   "metadata": {},
   "outputs": [
    {
     "name": "stdout",
     "output_type": "stream",
     "text": [
      "Standard Deviation of fid1000: 4.2514601703705175\n",
      "Standard Deviation of fid2500: 3.8664380519900425\n",
      "Standard Deviation of fid5000: 3.961840512553931\n",
      "Standard Deviation of fid7500: 4.381590556232879\n",
      "Standard Deviation of fid10000: 2.822111546386307\n",
      "Standard Deviation of fid12500: 3.5547769980932493\n",
      "Standard Deviation of fid15000: 4.835065845300874\n"
     ]
    }
   ],
   "source": [
    "print(f'Standard Deviation of fid1000: {np.std(fid1000)}')\n",
    "print(f'Standard Deviation of fid2500: {np.std(fid2500)}')\n",
    "print(f'Standard Deviation of fid5000: {np.std(fid5000)}')\n",
    "print(f'Standard Deviation of fid7500: {np.std(fid7500)}')\n",
    "print(f'Standard Deviation of fid10000: {np.std(fid10000)}')\n",
    "print(f'Standard Deviation of fid12500: {np.std(fid12500)}')\n",
    "print(f'Standard Deviation of fid15000: {np.std(fid15000)}')"
   ]
  },
  {
   "cell_type": "code",
   "execution_count": 6,
   "metadata": {},
   "outputs": [
    {
     "name": "stdout",
     "output_type": "stream",
     "text": [
      "Median of fid1000: 88.32\n",
      "Median of fid2500: 79.14\n",
      "Median of fid5000: 75.28\n",
      "Median of fid7500: 73.76\n",
      "Median of fid10000: 72.39\n",
      "Median of fid12500: 72.8\n",
      "Median of fid15000: 73.76\n",
      "Median of fidTest: 10.0\n"
     ]
    }
   ],
   "source": [
    "print(f'Median of fid1000: {np.median(fid1000)}')\n",
    "print(f'Median of fid2500: {np.median(fid2500)}')\n",
    "print(f'Median of fid5000: {np.median(fid5000)}')\n",
    "print(f'Median of fid7500: {np.median(fid7500)}')\n",
    "print(f'Median of fid10000: {np.median(fid10000)}')\n",
    "print(f'Median of fid12500: {np.median(fid12500)}')\n",
    "print(f'Median of fid15000: {np.median(fid15000)}')\n",
    "\n",
    "print(f'Median of fidTest: {np.median(fidTest)}')"
   ]
  },
  {
   "cell_type": "code",
   "execution_count": 12,
   "metadata": {},
   "outputs": [
    {
     "data": {
      "text/plain": [
       "{'whiskers': [<matplotlib.lines.Line2D at 0x194e27d7d48>,\n",
       "  <matplotlib.lines.Line2D at 0x194e27d79c8>,\n",
       "  <matplotlib.lines.Line2D at 0x194e27f0a48>,\n",
       "  <matplotlib.lines.Line2D at 0x194e27f0a08>,\n",
       "  <matplotlib.lines.Line2D at 0x194e28037c8>,\n",
       "  <matplotlib.lines.Line2D at 0x194e2803f88>,\n",
       "  <matplotlib.lines.Line2D at 0x194e2815f48>,\n",
       "  <matplotlib.lines.Line2D at 0x194e2815888>,\n",
       "  <matplotlib.lines.Line2D at 0x194e2828708>,\n",
       "  <matplotlib.lines.Line2D at 0x194e2803108>,\n",
       "  <matplotlib.lines.Line2D at 0x194e283ae08>,\n",
       "  <matplotlib.lines.Line2D at 0x194e283a748>,\n",
       "  <matplotlib.lines.Line2D at 0x194e2849e88>,\n",
       "  <matplotlib.lines.Line2D at 0x194e2850cc8>],\n",
       " 'caps': [<matplotlib.lines.Line2D at 0x194e27e4c08>,\n",
       "  <matplotlib.lines.Line2D at 0x194e27e4608>,\n",
       "  <matplotlib.lines.Line2D at 0x194e27f3248>,\n",
       "  <matplotlib.lines.Line2D at 0x194e27f3988>,\n",
       "  <matplotlib.lines.Line2D at 0x194e2803908>,\n",
       "  <matplotlib.lines.Line2D at 0x194e2807f88>,\n",
       "  <matplotlib.lines.Line2D at 0x194e2819ec8>,\n",
       "  <matplotlib.lines.Line2D at 0x194e2819848>,\n",
       "  <matplotlib.lines.Line2D at 0x194e2828848>,\n",
       "  <matplotlib.lines.Line2D at 0x194e2807108>,\n",
       "  <matplotlib.lines.Line2D at 0x194e283fd88>,\n",
       "  <matplotlib.lines.Line2D at 0x194e283f708>,\n",
       "  <matplotlib.lines.Line2D at 0x194e2850688>,\n",
       "  <matplotlib.lines.Line2D at 0x194e2854c88>],\n",
       " 'boxes': [<matplotlib.lines.Line2D at 0x194e27db048>,\n",
       "  <matplotlib.lines.Line2D at 0x194e27a5088>,\n",
       "  <matplotlib.lines.Line2D at 0x194e27f02c8>,\n",
       "  <matplotlib.lines.Line2D at 0x194e280ee48>,\n",
       "  <matplotlib.lines.Line2D at 0x194e2825e48>,\n",
       "  <matplotlib.lines.Line2D at 0x194e283a5c8>,\n",
       "  <matplotlib.lines.Line2D at 0x194e2834f08>],\n",
       " 'medians': [<matplotlib.lines.Line2D at 0x194e27e8a88>,\n",
       "  <matplotlib.lines.Line2D at 0x194e27f9fc8>,\n",
       "  <matplotlib.lines.Line2D at 0x194e28078c8>,\n",
       "  <matplotlib.lines.Line2D at 0x194e281fe88>,\n",
       "  <matplotlib.lines.Line2D at 0x194e282e788>,\n",
       "  <matplotlib.lines.Line2D at 0x194e2843d48>,\n",
       "  <matplotlib.lines.Line2D at 0x194e2854608>],\n",
       " 'fliers': [<matplotlib.lines.Line2D at 0x194e27e8448>,\n",
       "  <matplotlib.lines.Line2D at 0x194e27f9948>,\n",
       "  <matplotlib.lines.Line2D at 0x194e280ef48>,\n",
       "  <matplotlib.lines.Line2D at 0x194e281f808>,\n",
       "  <matplotlib.lines.Line2D at 0x194e2834dc8>,\n",
       "  <matplotlib.lines.Line2D at 0x194e28436c8>,\n",
       "  <matplotlib.lines.Line2D at 0x194e2859c48>],\n",
       " 'means': []}"
      ]
     },
     "execution_count": 12,
     "metadata": {},
     "output_type": "execute_result"
    },
    {
     "data": {
      "image/png": "[encoded data removed]",
      "text/plain": [
       "<Figure size 432x288 with 1 Axes>"
      ]
     },
     "metadata": {
      "needs_background": "light"
     },
     "output_type": "display_data"
    }
   ],
   "source": [
    "fig, ax = plt.subplots()\n",
    "plt.xticks(rotation=90)\n",
    "# ax.set_title('Human Present')\n",
    "\n",
    "ax.set_xlabel('Modelos Tipo 1')\n",
    "ax.set_ylabel('FID')\n",
    "\n",
    "labelsList = [\n",
    "    'Conjunto 1000', \n",
    "    'Conjunto 2500', \n",
    "    'Conjunto 5000', \n",
    "    'Conjunto 7500', \n",
    "    'Conjunto 10000', \n",
    "    'Conjunto 12500', \n",
    "    'Conjunto 15000']\n",
    "\n",
    "ax.yaxis.grid(color='lightgray', linestyle='dashed')\n",
    "\n",
    "ax.boxplot(\n",
    "    [fid1000, fid2500, fid5000, fid7500, fid10000, fid12500, fid15000], \n",
    "    labels=labelsList)\n",
    "\n",
    "# fig.savefig('./images/human-present--by-model--box-plot.png')"
   ]
  }
 ],
 "metadata": {
  "kernelspec": {
   "display_name": "Python 3",
   "language": "python",
   "name": "python3"
  },
  "language_info": {
   "codemirror_mode": {
    "name": "ipython",
    "version": 3
   },
   "file_extension": ".py",
   "mimetype": "text/x-python",
   "name": "python",
   "nbconvert_exporter": "python",
   "pygments_lexer": "ipython3",
   "version": "3.7.7"
  }
 },
 "nbformat": 4,
 "nbformat_minor": 4
}
