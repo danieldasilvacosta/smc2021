{
 "cells": [
  {
   "cell_type": "code",
   "execution_count": 1,
   "metadata": {},
   "outputs": [],
   "source": [
    "import pandas as pd\n",
    "import os\n",
    "import shutil\n",
    "import cv2\n",
    "import sys\n",
    "import dlib\n",
    "import math\n",
    "from IPython.display import clear_output, display\n",
    "import time\n",
    "from tqdm import tqdm"
   ]
  },
  {
   "cell_type": "code",
   "execution_count": 2,
   "metadata": {},
   "outputs": [],
   "source": [
    "images_dimensions = 128"
   ]
  },
  {
   "cell_type": "code",
   "execution_count": 3,
   "metadata": {},
   "outputs": [],
   "source": [
    "attribute = 'initial-set'"
   ]
  },
  {
   "cell_type": "code",
   "execution_count": 4,
   "metadata": {},
   "outputs": [],
   "source": [
    "IMAGES_FOLDER = './images/'\n",
    "folderDimensionsSufix = str( images_dimensions ) + 'x' + str( images_dimensions )\n",
    "\n",
    "ORIGINALS_FOLDER = IMAGES_FOLDER + f'originals--{attribute}/'\n",
    "padronizedFolder = IMAGES_FOLDER + f'padronized--{attribute}--{folderDimensionsSufix}/'\n",
    "croppedsFolder = IMAGES_FOLDER + f'croppeds--{attribute}--{folderDimensionsSufix}/'"
   ]
  },
  {
   "cell_type": "code",
   "execution_count": 5,
   "metadata": {},
   "outputs": [],
   "source": [
    "lastTime = time.time()"
   ]
  },
  {
   "cell_type": "code",
   "execution_count": 6,
   "metadata": {},
   "outputs": [],
   "source": [
    "try:\n",
    "    shutil.rmtree(padronizedFolder)\n",
    "    os.mkdir(padronizedFolder)\n",
    "except OSError as e:\n",
    "    os.mkdir(padronizedFolder)"
   ]
  },
  {
   "cell_type": "code",
   "execution_count": 7,
   "metadata": {},
   "outputs": [],
   "source": [
    "try:\n",
    "    shutil.rmtree(croppedsFolder)\n",
    "    os.mkdir(croppedsFolder)\n",
    "except OSError as e:\n",
    "    os.mkdir(croppedsFolder)"
   ]
  },
  {
   "cell_type": "code",
   "execution_count": 8,
   "metadata": {},
   "outputs": [
    {
     "name": "stdout",
     "output_type": "stream",
     "text": [
      "Total of images: 97609\n"
     ]
    }
   ],
   "source": [
    "_, _, files = next( os.walk( ORIGINALS_FOLDER ) )\n",
    "files.sort()\n",
    "print( f'Total of images: {len( files )}' )"
   ]
  },
  {
   "cell_type": "markdown",
   "metadata": {},
   "source": [
    "### Convert to gray scale"
   ]
  },
  {
   "cell_type": "code",
   "execution_count": 9,
   "metadata": {},
   "outputs": [
    {
     "name": "stderr",
     "output_type": "stream",
     "text": [
      "100%|██████████| 97609/97609 [08:45<00:00, 185.84it/s]"
     ]
    },
    {
     "name": "stdout",
     "output_type": "stream",
     "text": [
      "\n",
      "----------------------------------------------------\n",
      "Finalized\n"
     ]
    },
    {
     "name": "stderr",
     "output_type": "stream",
     "text": [
      "\n"
     ]
    }
   ],
   "source": [
    "counter = 1\n",
    "for file in tqdm(files):\n",
    "    \n",
    "    # Load image in memory\n",
    "    loadedImage = cv2.imread(ORIGINALS_FOLDER + file)\n",
    "    \n",
    "    # Convert to gray scale\n",
    "    grayImage = cv2.cvtColor(loadedImage, cv2.COLOR_BGR2GRAY)\n",
    "    \n",
    "    # Save gray scale image\n",
    "    cv2.imwrite( padronizedFolder + file, grayImage )\n",
    "    \n",
    "    counter += 1\n",
    "    \n",
    "print( '\\n----------------------------------------------------' )\n",
    "print( 'Finalized' )"
   ]
  },
  {
   "cell_type": "markdown",
   "metadata": {},
   "source": [
    "### Crop function: crop and save the face"
   ]
  },
  {
   "cell_type": "code",
   "execution_count": 10,
   "metadata": {},
   "outputs": [],
   "source": [
    "from PIL import Image\n",
    "\n",
    "def crop( image_path, coords, saved_location ):\n",
    "\n",
    "    image_obj = Image.open( image_path )\n",
    "    cropped_image = image_obj.crop( coords )\n",
    "    cropped_image.save( saved_location )"
   ]
  },
  {
   "cell_type": "markdown",
   "metadata": {},
   "source": [
    "### Find face with HOG: find and call crop function"
   ]
  },
  {
   "cell_type": "code",
   "execution_count": 11,
   "metadata": {},
   "outputs": [
    {
     "name": "stdout",
     "output_type": "stream",
     "text": [
      "Total of images: 97609\n"
     ]
    }
   ],
   "source": [
    "_, _, files = next( os.walk( padronizedFolder ) )\n",
    "files.sort()\n",
    "print( f'Total of images: {len( files )}' )"
   ]
  },
  {
   "cell_type": "code",
   "execution_count": 12,
   "metadata": {},
   "outputs": [
    {
     "name": "stderr",
     "output_type": "stream",
     "text": [
      "100%|██████████| 97609/97609 [19:23<00:00, 83.87it/s]"
     ]
    },
    {
     "name": "stdout",
     "output_type": "stream",
     "text": [
      "\n",
      "----------------------------------------------------\n",
      "Finalized\n"
     ]
    },
    {
     "name": "stderr",
     "output_type": "stream",
     "text": [
      "\n"
     ]
    }
   ],
   "source": [
    "# https://www.learnopencv.com/face-detection-opencv-dlib-and-deep-learning-c-python/\n",
    "hogFaceDetector = dlib.get_frontal_face_detector()\n",
    "\n",
    "counter = 1\n",
    "for file in tqdm(files):\n",
    "    \n",
    "    # Load image in memory\n",
    "    loadedImage = cv2.imread( padronizedFolder + file )\n",
    "    \n",
    "    facesRects = hogFaceDetector( loadedImage, 0 )\n",
    "    for k, d in enumerate( facesRects ):\n",
    "\n",
    "        # Bounding box\n",
    "        x = d.left()\n",
    "        y = d.top()\n",
    "        l = d.right() - x\n",
    "        a = d.bottom() - y\n",
    "        if x < 0: x = 0\n",
    "\n",
    "        crop( padronizedFolder + file,\n",
    "             (x, y, x + l, y + a ),\n",
    "             croppedsFolder + file)        \n",
    "\n",
    "        counter += 1\n",
    "    \n",
    "print( '\\n----------------------------------------------------' )\n",
    "print( 'Finalized' )"
   ]
  },
  {
   "cell_type": "markdown",
   "metadata": {},
   "source": [
    "### Resize cropped faces"
   ]
  },
  {
   "cell_type": "code",
   "execution_count": 13,
   "metadata": {},
   "outputs": [
    {
     "name": "stdout",
     "output_type": "stream",
     "text": [
      "Total of images: 96241\n"
     ]
    }
   ],
   "source": [
    "_, _, files = next( os.walk( croppedsFolder ) )\n",
    "files.sort()\n",
    "print( f'Total of images: {len( files )}' )"
   ]
  },
  {
   "cell_type": "code",
   "execution_count": 14,
   "metadata": {},
   "outputs": [],
   "source": [
    "try:\n",
    "    shutil.rmtree(padronizedFolder)\n",
    "    os.mkdir(padronizedFolder)\n",
    "except OSError as e:\n",
    "    os.mkdir(padronizedFolder)"
   ]
  },
  {
   "cell_type": "code",
   "execution_count": 15,
   "metadata": {},
   "outputs": [
    {
     "name": "stderr",
     "output_type": "stream",
     "text": [
      "100%|██████████| 96241/96241 [08:00<00:00, 200.22it/s]"
     ]
    },
    {
     "name": "stdout",
     "output_type": "stream",
     "text": [
      "\n",
      "----------------------------------------------------\n",
      "Finalized\n"
     ]
    },
    {
     "name": "stderr",
     "output_type": "stream",
     "text": [
      "\n"
     ]
    }
   ],
   "source": [
    "counter = 1\n",
    "for file in tqdm(files):\n",
    "\n",
    "    # Load image in memory\n",
    "    loadedImage = cv2.imread( croppedsFolder + file )    \n",
    "    \n",
    "    # Resize image\n",
    "    width = images_dimensions\n",
    "    height = int( loadedImage.shape[0] * width / loadedImage.shape[1] )\n",
    "    dsize = (width, height)\n",
    "    resizedImage = cv2.resize(loadedImage, dsize)\n",
    "\n",
    "    # Avoid height less than images dimensions to avoid square image.\n",
    "    if height < images_dimensions:\n",
    "        height = images_dimensions\n",
    "        width = int( loadedImage.shape[1] * height / loadedImage.shape[0] )\n",
    "        dsize = (width, height)\n",
    "        resizedImage = cv2.resize(loadedImage, dsize)\n",
    "\n",
    "    # Crop all images to the same height\n",
    "    croppedImage = resizedImage[0:images_dimensions, 0:images_dimensions]\n",
    "    \n",
    "    # Save the padronized image\n",
    "    cv2.imwrite(padronizedFolder + file, croppedImage)\n",
    "    \n",
    "    counter += 1\n",
    "    \n",
    "print( '\\n----------------------------------------------------' )\n",
    "print( 'Finalized' )"
   ]
  },
  {
   "cell_type": "code",
   "execution_count": 16,
   "metadata": {},
   "outputs": [
    {
     "name": "stdout",
     "output_type": "stream",
     "text": [
      "Proccess Time: 36.38 min\n"
     ]
    }
   ],
   "source": [
    "# Time\n",
    "now = time.time()\n",
    "interval = now - lastTime\n",
    "print('Proccess Time: %.2f min' % (interval/60))"
   ]
  }
 ],
 "metadata": {
  "kernelspec": {
   "display_name": "Python 3",
   "language": "python",
   "name": "python3"
  },
  "language_info": {
   "codemirror_mode": {
    "name": "ipython",
    "version": 3
   },
   "file_extension": ".py",
   "mimetype": "text/x-python",
   "name": "python",
   "nbconvert_exporter": "python",
   "pygments_lexer": "ipython3",
   "version": "3.7.7"
  }
 },
 "nbformat": 4,
 "nbformat_minor": 4
}
