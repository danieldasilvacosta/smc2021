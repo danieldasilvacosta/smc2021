{
 "cells": [
  {
   "cell_type": "code",
   "execution_count": 1,
   "metadata": {},
   "outputs": [],
   "source": [
    "import pandas as pd\n",
    "import os\n",
    "import shutil\n",
    "import cv2\n",
    "import sys\n",
    "import dlib\n",
    "import math\n",
    "from IPython.display import clear_output, display\n",
    "import time\n",
    "from tqdm import tqdm\n",
    "import random"
   ]
  },
  {
   "cell_type": "code",
   "execution_count": 2,
   "metadata": {},
   "outputs": [],
   "source": [
    "images_dimensions = 128"
   ]
  },
  {
   "cell_type": "code",
   "execution_count": 3,
   "metadata": {},
   "outputs": [],
   "source": [
    "attribute = 'initial-set'"
   ]
  },
  {
   "cell_type": "code",
   "execution_count": 4,
   "metadata": {},
   "outputs": [],
   "source": [
    "groups = [\n",
    "    '5000--bs-10--ls-100', \n",
    "    '5000--bs-10--ls-500', \n",
    "    '5000--bs-100--ls-100', \n",
    "    '5000--bs-100--ls-500']\n",
    "\n",
    "totalInputImages = 5000"
   ]
  },
  {
   "cell_type": "code",
   "execution_count": 5,
   "metadata": {},
   "outputs": [
    {
     "name": "stdout",
     "output_type": "stream",
     "text": [
      "Total of images: 96241\n"
     ]
    }
   ],
   "source": [
    "IMAGES_FOLDER = './images/'\n",
    "folderDimensionsSufix = str( images_dimensions ) + 'x' + str( images_dimensions )\n",
    "\n",
    "originFolder = IMAGES_FOLDER + f'padronized--{attribute}--{folderDimensionsSufix}/'\n",
    "\n",
    "_, _, files = next( os.walk( originFolder ) )\n",
    "files.sort()\n",
    "print( f'Total of images: {len( files )}' )"
   ]
  },
  {
   "cell_type": "code",
   "execution_count": 6,
   "metadata": {},
   "outputs": [
    {
     "name": "stderr",
     "output_type": "stream",
     "text": [
      "  0%|          | 0/5000 [00:00<?, ?it/s]"
     ]
    },
    {
     "name": "stdout",
     "output_type": "stream",
     "text": [
      "Group 5000--bs-10--ls-100\n"
     ]
    },
    {
     "name": "stderr",
     "output_type": "stream",
     "text": [
      "100%|██████████| 5000/5000 [00:27<00:00, 183.62it/s]\n",
      "  0%|          | 20/5000 [00:00<00:25, 197.84it/s]"
     ]
    },
    {
     "name": "stdout",
     "output_type": "stream",
     "text": [
      "Group 5000--bs-10--ls-500\n"
     ]
    },
    {
     "name": "stderr",
     "output_type": "stream",
     "text": [
      "100%|██████████| 5000/5000 [00:27<00:00, 182.26it/s]\n",
      "  0%|          | 19/5000 [00:00<00:27, 182.51it/s]"
     ]
    },
    {
     "name": "stdout",
     "output_type": "stream",
     "text": [
      "Group 5000--bs-100--ls-100\n"
     ]
    },
    {
     "name": "stderr",
     "output_type": "stream",
     "text": [
      "100%|██████████| 5000/5000 [00:22<00:00, 221.65it/s]\n",
      "  1%|          | 47/5000 [00:00<00:21, 232.70it/s]"
     ]
    },
    {
     "name": "stdout",
     "output_type": "stream",
     "text": [
      "Group 5000--bs-100--ls-500\n"
     ]
    },
    {
     "name": "stderr",
     "output_type": "stream",
     "text": [
      "100%|██████████| 5000/5000 [00:21<00:00, 231.62it/s]"
     ]
    },
    {
     "name": "stdout",
     "output_type": "stream",
     "text": [
      "\n",
      "----------------------------------------------------\n",
      "Finalized\n"
     ]
    },
    {
     "name": "stderr",
     "output_type": "stream",
     "text": [
      "\n"
     ]
    }
   ],
   "source": [
    "for group in groups:\n",
    "    \n",
    "    print(f'Group {group}')\n",
    "    \n",
    "    random.shuffle(files)\n",
    "    \n",
    "    destinationFolder = IMAGES_FOLDER + f'padronized--{attribute}--{folderDimensionsSufix}--{group}/'\n",
    "\n",
    "    try:\n",
    "        shutil.rmtree(destinationFolder)\n",
    "        os.mkdir(destinationFolder)\n",
    "    except OSError as e:\n",
    "        os.mkdir(destinationFolder)\n",
    "        \n",
    "    for i in tqdm(range(0, totalInputImages)):\n",
    "        file = files[i]\n",
    "        loadedImage = cv2.imread(originFolder + file)\n",
    "        # print(file)\n",
    "        cv2.imwrite( destinationFolder + file, loadedImage )\n",
    "\n",
    "print( '\\n----------------------------------------------------' )\n",
    "print( 'Finalized' )"
   ]
  }
 ],
 "metadata": {
  "kernelspec": {
   "display_name": "Python 3",
   "language": "python",
   "name": "python3"
  },
  "language_info": {
   "codemirror_mode": {
    "name": "ipython",
    "version": 3
   },
   "file_extension": ".py",
   "mimetype": "text/x-python",
   "name": "python",
   "nbconvert_exporter": "python",
   "pygments_lexer": "ipython3",
   "version": "3.7.7"
  }
 },
 "nbformat": 4,
 "nbformat_minor": 4
}
