{
 "cells": [
  {
   "cell_type": "code",
   "execution_count": 1,
   "metadata": {},
   "outputs": [],
   "source": [
    "import pandas as pd\n",
    "import os\n",
    "import shutil\n",
    "import cv2\n",
    "import sys\n",
    "import dlib\n",
    "import math\n",
    "from IPython.display import clear_output, display\n",
    "import time\n",
    "from tqdm import tqdm\n",
    "import random"
   ]
  },
  {
   "cell_type": "code",
   "execution_count": 2,
   "metadata": {},
   "outputs": [],
   "source": [
    "images_dimensions = 128"
   ]
  },
  {
   "cell_type": "code",
   "execution_count": 3,
   "metadata": {},
   "outputs": [],
   "source": [
    "# attribute = 'High_Cheekbones'\n",
    "# attribute = 'Oval_Face'\n",
    "# attribute = 'Arched_Eyebrows'\n",
    "# attribute = 'Big_Lips'\n",
    "attribute = 'initial-set'\n",
    "# attribute = 'High_Cheekbones--Arched_Eyebrows'\n",
    "# attribute = 'Arched_Eyebrows'"
   ]
  },
  {
   "cell_type": "code",
   "execution_count": 4,
   "metadata": {},
   "outputs": [],
   "source": [
    "# batchSizeList = [10, 100]\n",
    "# latentSpaceList = [100, 500]\n",
    "\n",
    "batchSizeList = [10, 100]\n",
    "latentSpaceList = [100, 500]"
   ]
  },
  {
   "cell_type": "code",
   "execution_count": 5,
   "metadata": {},
   "outputs": [],
   "source": [
    "# totalInputImagesList = [5000, 10000, 15000, 20000, 25000, 50000]\n",
    "# totalInputImagesList = [7500, 12500, 15000, 20000, 22500, 25000]\n",
    "# totalInputImagesList = [1000, 2500, 5000, 7500, 10000]\n",
    "totalInputImagesList = [1000]"
   ]
  },
  {
   "cell_type": "code",
   "execution_count": 6,
   "metadata": {},
   "outputs": [
    {
     "name": "stdout",
     "output_type": "stream",
     "text": [
      "Total of images: 96241\n"
     ]
    }
   ],
   "source": [
    "IMAGES_FOLDER = './images/'\n",
    "folderDimensionsSufix = str( images_dimensions ) + 'x' + str( images_dimensions )\n",
    "\n",
    "originFolder = IMAGES_FOLDER + f'padronized--{attribute}--{folderDimensionsSufix}/'\n",
    "\n",
    "_, _, files = next( os.walk( originFolder ) )\n",
    "files.sort()\n",
    "print( f'Total of images: {len( files )}' )"
   ]
  },
  {
   "cell_type": "code",
   "execution_count": 7,
   "metadata": {},
   "outputs": [
    {
     "name": "stderr",
     "output_type": "stream",
     "text": [
      "  0%|          | 0/1000 [00:00<?, ?it/s]"
     ]
    },
    {
     "name": "stdout",
     "output_type": "stream",
     "text": [
      "\n",
      "Group: 1000\n",
      "Batch Size: 10\n",
      "Latent Space: 100\n"
     ]
    },
    {
     "name": "stderr",
     "output_type": "stream",
     "text": [
      "100%|██████████| 1000/1000 [00:29<00:00, 33.84it/s]\n",
      "  0%|          | 0/1000 [00:00<?, ?it/s]"
     ]
    },
    {
     "name": "stdout",
     "output_type": "stream",
     "text": [
      "\n",
      "Group: 1000\n",
      "Batch Size: 10\n",
      "Latent Space: 500\n"
     ]
    },
    {
     "name": "stderr",
     "output_type": "stream",
     "text": [
      "100%|██████████| 1000/1000 [00:29<00:00, 33.93it/s]\n",
      "  0%|          | 4/1000 [00:00<00:26, 37.86it/s]"
     ]
    },
    {
     "name": "stdout",
     "output_type": "stream",
     "text": [
      "\n",
      "Group: 1000\n",
      "Batch Size: 100\n",
      "Latent Space: 100\n"
     ]
    },
    {
     "name": "stderr",
     "output_type": "stream",
     "text": [
      "100%|██████████| 1000/1000 [00:28<00:00, 35.17it/s]\n",
      "  0%|          | 2/1000 [00:00<00:51, 19.47it/s]"
     ]
    },
    {
     "name": "stdout",
     "output_type": "stream",
     "text": [
      "\n",
      "Group: 1000\n",
      "Batch Size: 100\n",
      "Latent Space: 500\n"
     ]
    },
    {
     "name": "stderr",
     "output_type": "stream",
     "text": [
      "100%|██████████| 1000/1000 [00:29<00:00, 33.90it/s]"
     ]
    },
    {
     "name": "stdout",
     "output_type": "stream",
     "text": [
      "\n",
      "----------------------------------------------------\n",
      "Finalized\n"
     ]
    },
    {
     "name": "stderr",
     "output_type": "stream",
     "text": [
      "\n"
     ]
    }
   ],
   "source": [
    "for totalInputImages in totalInputImagesList:\n",
    "    \n",
    "    for batchSize in batchSizeList:\n",
    "        \n",
    "        for latentSpace in latentSpaceList:\n",
    "    \n",
    "            print()\n",
    "            print(f'Group: {totalInputImages}')\n",
    "            print(f'Batch Size: {batchSize}')\n",
    "            print(f'Latent Space: {latentSpace}')\n",
    "\n",
    "            # Shuffle images to select randomly\n",
    "            random.shuffle(files)\n",
    "\n",
    "            destinationFolder = f'{IMAGES_FOLDER}padronized--{attribute}--{folderDimensionsSufix}--{totalInputImages}--bs-{batchSize}--ls-{latentSpace}/'\n",
    "\n",
    "            try:\n",
    "                shutil.rmtree(destinationFolder)\n",
    "                os.mkdir(destinationFolder)\n",
    "            except OSError as e:\n",
    "                os.mkdir(destinationFolder)\n",
    "\n",
    "            for i in tqdm(range(0, totalInputImages)):\n",
    "                file = files[i]\n",
    "                loadedImage = cv2.imread(originFolder + file)\n",
    "                # print(file)\n",
    "                cv2.imwrite( destinationFolder + file, loadedImage )\n",
    "\n",
    "print( '\\n----------------------------------------------------' )\n",
    "print( 'Finalized' )"
   ]
  }
 ],
 "metadata": {
  "kernelspec": {
   "display_name": "Python 3",
   "language": "python",
   "name": "python3"
  },
  "language_info": {
   "codemirror_mode": {
    "name": "ipython",
    "version": 3
   },
   "file_extension": ".py",
   "mimetype": "text/x-python",
   "name": "python",
   "nbconvert_exporter": "python",
   "pygments_lexer": "ipython3",
   "version": "3.7.7"
  }
 },
 "nbformat": 4,
 "nbformat_minor": 4
}
