{
 "cells": [
  {
   "cell_type": "code",
   "execution_count": null,
   "metadata": {},
   "outputs": [],
   "source": [
    "images_dimensions = 128\n",
    "BATCH_SIZE = 100\n",
    "latent_dim = 100"
   ]
  },
  {
   "cell_type": "code",
   "execution_count": 2,
   "metadata": {},
   "outputs": [],
   "source": [
    "attribute = 'initial-set'\n",
    "group = f'10000--bs-{BATCH_SIZE}--ls-{latent_dim}'"
   ]
  },
  {
   "cell_type": "code",
   "execution_count": 3,
   "metadata": {},
   "outputs": [],
   "source": [
    "IMAGES_FOLDER = './images/'\n",
    "folderDimensionsSufix = str( images_dimensions ) + 'x' + str( images_dimensions )\n",
    "\n",
    "padronizedFolder = f'{IMAGES_FOLDER}padronized--{attribute}--{folderDimensionsSufix}--{group}/'"
   ]
  },
  {
   "cell_type": "code",
   "execution_count": 4,
   "metadata": {},
   "outputs": [],
   "source": [
    "trainedModelFolder = f'./trained-model--{attribute}--{folderDimensionsSufix}--{group}/'\n",
    "generatedFolder = trainedModelFolder + 'generated/'"
   ]
  },
  {
   "cell_type": "code",
   "execution_count": 5,
   "metadata": {},
   "outputs": [
    {
     "name": "stderr",
     "output_type": "stream",
     "text": [
      "Using TensorFlow backend.\n"
     ]
    },
    {
     "name": "stdout",
     "output_type": "stream",
     "text": [
      "\n",
      "Processing...\n"
     ]
    },
    {
     "name": "stderr",
     "output_type": "stream",
     "text": [
      "100%|██████████| 10000/10000 [02:42<00:00, 61.64it/s]\n",
      " 17%|█▋        | 5/30 [00:00<00:00, 43.75it/s]"
     ]
    },
    {
     "name": "stdout",
     "output_type": "stream",
     "text": [
      "\n",
      "--------------------------------\n",
      "\n",
      "Epoch: 1\n"
     ]
    },
    {
     "name": "stderr",
     "output_type": "stream",
     "text": [
      "100%|██████████| 30/30 [00:00<00:00, 114.19it/s]\n",
      "  0%|          | 0/30 [00:00<?, ?it/s]"
     ]
    },
    {
     "name": "stdout",
     "output_type": "stream",
     "text": [
      "\n",
      "FID: 471.3688\n",
      "Time: 0.16 min\n",
      "\n",
      "-- Partial --\n",
      "Best Epoch: epoch-1\n",
      "Best FID: 471.3688\n",
      "\n",
      "--------------------------------\n",
      "\n",
      "Epoch: 2\n"
     ]
    },
    {
     "name": "stderr",
     "output_type": "stream",
     "text": [
      "100%|██████████| 30/30 [00:00<00:00, 119.25it/s]\n",
      " 40%|████      | 12/30 [00:00<00:00, 114.13it/s]"
     ]
    },
    {
     "name": "stdout",
     "output_type": "stream",
     "text": [
      "\n",
      "FID: 339.2884\n",
      "Time: 0.15 min\n",
      "\n",
      "-- Partial --\n",
      "Best Epoch: epoch-2\n",
      "Best FID: 339.2884\n",
      "\n",
      "--------------------------------\n",
      "\n",
      "Epoch: 3\n"
     ]
    },
    {
     "name": "stderr",
     "output_type": "stream",
     "text": [
      "100%|██████████| 30/30 [00:00<00:00, 129.21it/s]\n",
      " 90%|█████████ | 27/30 [00:00<00:00, 234.24it/s]"
     ]
    },
    {
     "name": "stdout",
     "output_type": "stream",
     "text": [
      "\n",
      "FID: 405.4514\n",
      "Time: 0.14 min\n",
      "\n",
      "-- Partial --\n",
      "Best Epoch: epoch-2\n",
      "Best FID: 339.2884\n",
      "\n",
      "--------------------------------\n",
      "\n",
      "Epoch: 4\n"
     ]
    },
    {
     "name": "stderr",
     "output_type": "stream",
     "text": [
      "100%|██████████| 30/30 [00:00<00:00, 182.45it/s]\n",
      " 60%|██████    | 18/30 [00:00<00:00, 161.73it/s]"
     ]
    },
    {
     "name": "stdout",
     "output_type": "stream",
     "text": [
      "\n",
      "FID: 430.1013\n",
      "Time: 0.14 min\n",
      "\n",
      "-- Partial --\n",
      "Best Epoch: epoch-2\n",
      "Best FID: 339.2884\n",
      "\n",
      "--------------------------------\n",
      "\n",
      "Epoch: 5\n"
     ]
    },
    {
     "name": "stderr",
     "output_type": "stream",
     "text": [
      "100%|██████████| 30/30 [00:00<00:00, 150.40it/s]\n",
      " 23%|██▎       | 7/30 [00:00<00:00, 69.24it/s]"
     ]
    },
    {
     "name": "stdout",
     "output_type": "stream",
     "text": [
      "\n",
      "FID: 391.2659\n",
      "Time: 0.15 min\n",
      "\n",
      "-- Partial --\n",
      "Best Epoch: epoch-2\n",
      "Best FID: 339.2884\n",
      "\n",
      "--------------------------------\n",
      "\n",
      "Epoch: 6\n"
     ]
    },
    {
     "name": "stderr",
     "output_type": "stream",
     "text": [
      "100%|██████████| 30/30 [00:00<00:00, 108.20it/s]\n",
      " 23%|██▎       | 7/30 [00:00<00:00, 65.92it/s]"
     ]
    },
    {
     "name": "stdout",
     "output_type": "stream",
     "text": [
      "\n",
      "FID: 308.6423\n",
      "Time: 0.16 min\n",
      "\n",
      "-- Partial --\n",
      "Best Epoch: epoch-6\n",
      "Best FID: 308.6423\n",
      "\n",
      "--------------------------------\n",
      "\n",
      "Epoch: 7\n"
     ]
    },
    {
     "name": "stderr",
     "output_type": "stream",
     "text": [
      "100%|██████████| 30/30 [00:00<00:00, 91.83it/s]\n",
      " 43%|████▎     | 13/30 [00:00<00:00, 129.45it/s]"
     ]
    },
    {
     "name": "stdout",
     "output_type": "stream",
     "text": [
      "\n",
      "FID: 259.0487\n",
      "Time: 0.15 min\n",
      "\n",
      "-- Partial --\n",
      "Best Epoch: epoch-7\n",
      "Best FID: 259.0487\n",
      "\n",
      "--------------------------------\n",
      "\n",
      "Epoch: 8\n"
     ]
    },
    {
     "name": "stderr",
     "output_type": "stream",
     "text": [
      "100%|██████████| 30/30 [00:00<00:00, 144.32it/s]\n",
      "100%|██████████| 30/30 [00:00<00:00, 173.25it/s]"
     ]
    },
    {
     "name": "stdout",
     "output_type": "stream",
     "text": [
      "\n",
      "FID: 172.2523\n",
      "Time: 0.15 min\n",
      "\n",
      "-- Partial --\n",
      "Best Epoch: epoch-8\n",
      "Best FID: 172.2523\n",
      "\n",
      "--------------------------------\n",
      "\n",
      "Epoch: 9\n"
     ]
    },
    {
     "name": "stderr",
     "output_type": "stream",
     "text": [
      "\n",
      "100%|██████████| 30/30 [00:00<00:00, 186.51it/s]"
     ]
    },
    {
     "name": "stdout",
     "output_type": "stream",
     "text": [
      "\n",
      "FID: 166.4838\n",
      "Time: 0.15 min\n",
      "\n",
      "-- Partial --\n",
      "Best Epoch: epoch-9\n",
      "Best FID: 166.4838\n",
      "\n",
      "--------------------------------\n",
      "\n",
      "Epoch: 10\n"
     ]
    },
    {
     "name": "stderr",
     "output_type": "stream",
     "text": [
      "\n",
      " 40%|████      | 12/30 [00:00<00:00, 105.91it/s]"
     ]
    },
    {
     "name": "stdout",
     "output_type": "stream",
     "text": [
      "\n",
      "FID: 154.8021\n",
      "Time: 0.14 min\n",
      "\n",
      "-- Partial --\n",
      "Best Epoch: epoch-10\n",
      "Best FID: 154.8021\n",
      "\n",
      "--------------------------------\n",
      "\n",
      "Epoch: 11\n"
     ]
    },
    {
     "name": "stderr",
     "output_type": "stream",
     "text": [
      "100%|██████████| 30/30 [00:00<00:00, 135.97it/s]\n",
      " 40%|████      | 12/30 [00:00<00:00, 119.54it/s]"
     ]
    },
    {
     "name": "stdout",
     "output_type": "stream",
     "text": [
      "\n",
      "FID: 118.6378\n",
      "Time: 0.15 min\n",
      "\n",
      "-- Partial --\n",
      "Best Epoch: epoch-11\n",
      "Best FID: 118.6378\n",
      "\n",
      "--------------------------------\n",
      "\n",
      "Epoch: 12\n"
     ]
    },
    {
     "name": "stderr",
     "output_type": "stream",
     "text": [
      "100%|██████████| 30/30 [00:00<00:00, 141.30it/s]\n",
      " 17%|█▋        | 5/30 [00:00<00:00, 47.96it/s]"
     ]
    },
    {
     "name": "stdout",
     "output_type": "stream",
     "text": [
      "\n",
      "FID: 124.1161\n",
      "Time: 0.15 min\n",
      "\n",
      "-- Partial --\n",
      "Best Epoch: epoch-11\n",
      "Best FID: 118.6378\n",
      "\n",
      "--------------------------------\n",
      "\n",
      "Epoch: 13\n"
     ]
    },
    {
     "name": "stderr",
     "output_type": "stream",
     "text": [
      "100%|██████████| 30/30 [00:00<00:00, 138.78it/s]\n",
      " 57%|█████▋    | 17/30 [00:00<00:00, 143.25it/s]"
     ]
    },
    {
     "name": "stdout",
     "output_type": "stream",
     "text": [
      "\n",
      "FID: 127.7046\n",
      "Time: 0.15 min\n",
      "\n",
      "-- Partial --\n",
      "Best Epoch: epoch-11\n",
      "Best FID: 118.6378\n",
      "\n",
      "--------------------------------\n",
      "\n",
      "Epoch: 14\n"
     ]
    },
    {
     "name": "stderr",
     "output_type": "stream",
     "text": [
      "100%|██████████| 30/30 [00:00<00:00, 166.88it/s]\n",
      " 73%|███████▎  | 22/30 [00:00<00:00, 205.62it/s]"
     ]
    },
    {
     "name": "stdout",
     "output_type": "stream",
     "text": [
      "\n",
      "FID: 127.8184\n",
      "Time: 0.15 min\n",
      "\n",
      "-- Partial --\n",
      "Best Epoch: epoch-11\n",
      "Best FID: 118.6378\n",
      "\n",
      "--------------------------------\n",
      "\n",
      "Epoch: 15\n"
     ]
    },
    {
     "name": "stderr",
     "output_type": "stream",
     "text": [
      "100%|██████████| 30/30 [00:00<00:00, 215.62it/s]\n",
      "100%|██████████| 30/30 [00:00<00:00, 162.71it/s]"
     ]
    },
    {
     "name": "stdout",
     "output_type": "stream",
     "text": [
      "\n",
      "FID: 112.0307\n",
      "Time: 0.14 min\n",
      "\n",
      "-- Partial --\n",
      "Best Epoch: epoch-15\n",
      "Best FID: 112.0307\n",
      "\n",
      "--------------------------------\n",
      "\n",
      "Epoch: 16\n"
     ]
    },
    {
     "name": "stderr",
     "output_type": "stream",
     "text": [
      "\n",
      " 23%|██▎       | 7/30 [00:00<00:00, 65.44it/s]"
     ]
    },
    {
     "name": "stdout",
     "output_type": "stream",
     "text": [
      "\n",
      "FID: 99.0519\n",
      "Time: 0.14 min\n",
      "\n",
      "-- Partial --\n",
      "Best Epoch: epoch-16\n",
      "Best FID: 99.0519\n",
      "\n",
      "--------------------------------\n",
      "\n",
      "Epoch: 17\n"
     ]
    },
    {
     "name": "stderr",
     "output_type": "stream",
     "text": [
      "100%|██████████| 30/30 [00:00<00:00, 133.28it/s]\n",
      " 37%|███▋      | 11/30 [00:00<00:00, 108.12it/s]"
     ]
    },
    {
     "name": "stdout",
     "output_type": "stream",
     "text": [
      "\n",
      "FID: 113.0546\n",
      "Time: 0.14 min\n",
      "\n",
      "-- Partial --\n",
      "Best Epoch: epoch-16\n",
      "Best FID: 99.0519\n",
      "\n",
      "--------------------------------\n",
      "\n",
      "Epoch: 18\n"
     ]
    },
    {
     "name": "stderr",
     "output_type": "stream",
     "text": [
      "100%|██████████| 30/30 [00:00<00:00, 127.47it/s]\n",
      "  3%|▎         | 1/30 [00:00<00:03,  9.59it/s]"
     ]
    },
    {
     "name": "stdout",
     "output_type": "stream",
     "text": [
      "\n",
      "FID: 85.1251\n",
      "Time: 0.14 min\n",
      "\n",
      "-- Partial --\n",
      "Best Epoch: epoch-18\n",
      "Best FID: 85.1251\n",
      "\n",
      "--------------------------------\n",
      "\n",
      "Epoch: 19\n"
     ]
    },
    {
     "name": "stderr",
     "output_type": "stream",
     "text": [
      "100%|██████████| 30/30 [00:00<00:00, 126.27it/s]\n",
      "100%|██████████| 30/30 [00:00<00:00, 184.01it/s]"
     ]
    },
    {
     "name": "stdout",
     "output_type": "stream",
     "text": [
      "\n",
      "FID: 92.4703\n",
      "Time: 0.14 min\n",
      "\n",
      "-- Partial --\n",
      "Best Epoch: epoch-18\n",
      "Best FID: 85.1251\n",
      "\n",
      "--------------------------------\n",
      "\n",
      "Epoch: 20\n"
     ]
    },
    {
     "name": "stderr",
     "output_type": "stream",
     "text": [
      "\n",
      " 47%|████▋     | 14/30 [00:00<00:00, 123.83it/s]"
     ]
    },
    {
     "name": "stdout",
     "output_type": "stream",
     "text": [
      "\n",
      "FID: 92.5760\n",
      "Time: 0.14 min\n",
      "\n",
      "-- Partial --\n",
      "Best Epoch: epoch-18\n",
      "Best FID: 85.1251\n",
      "\n",
      "--------------------------------\n",
      "\n",
      "Epoch: 21\n"
     ]
    },
    {
     "name": "stderr",
     "output_type": "stream",
     "text": [
      "100%|██████████| 30/30 [00:00<00:00, 149.04it/s]\n",
      " 40%|████      | 12/30 [00:00<00:00, 107.93it/s]"
     ]
    },
    {
     "name": "stdout",
     "output_type": "stream",
     "text": [
      "\n",
      "FID: 93.6212\n",
      "Time: 0.15 min\n",
      "\n",
      "-- Partial --\n",
      "Best Epoch: epoch-18\n",
      "Best FID: 85.1251\n",
      "\n",
      "--------------------------------\n",
      "\n",
      "Epoch: 22\n"
     ]
    },
    {
     "name": "stderr",
     "output_type": "stream",
     "text": [
      "100%|██████████| 30/30 [00:00<00:00, 120.79it/s]\n",
      " 43%|████▎     | 13/30 [00:00<00:00, 128.28it/s]"
     ]
    },
    {
     "name": "stdout",
     "output_type": "stream",
     "text": [
      "\n",
      "FID: 88.8898\n",
      "Time: 0.15 min\n",
      "\n",
      "-- Partial --\n",
      "Best Epoch: epoch-18\n",
      "Best FID: 85.1251\n",
      "\n",
      "--------------------------------\n",
      "\n",
      "Epoch: 23\n"
     ]
    },
    {
     "name": "stderr",
     "output_type": "stream",
     "text": [
      "100%|██████████| 30/30 [00:00<00:00, 144.39it/s]\n",
      " 33%|███▎      | 10/30 [00:00<00:00, 97.85it/s]"
     ]
    },
    {
     "name": "stdout",
     "output_type": "stream",
     "text": [
      "\n",
      "FID: 89.2970\n",
      "Time: 0.15 min\n",
      "\n",
      "-- Partial --\n",
      "Best Epoch: epoch-18\n",
      "Best FID: 85.1251\n",
      "\n",
      "--------------------------------\n",
      "\n",
      "Epoch: 24\n"
     ]
    },
    {
     "name": "stderr",
     "output_type": "stream",
     "text": [
      "100%|██████████| 30/30 [00:00<00:00, 126.37it/s]\n",
      " 50%|█████     | 15/30 [00:00<00:00, 137.47it/s]"
     ]
    },
    {
     "name": "stdout",
     "output_type": "stream",
     "text": [
      "\n",
      "FID: 90.5664\n",
      "Time: 0.16 min\n",
      "\n",
      "-- Partial --\n",
      "Best Epoch: epoch-18\n",
      "Best FID: 85.1251\n",
      "\n",
      "--------------------------------\n",
      "\n",
      "Epoch: 25\n"
     ]
    },
    {
     "name": "stderr",
     "output_type": "stream",
     "text": [
      "100%|██████████| 30/30 [00:00<00:00, 152.22it/s]\n",
      " 27%|██▋       | 8/30 [00:00<00:00, 73.32it/s]"
     ]
    },
    {
     "name": "stdout",
     "output_type": "stream",
     "text": [
      "\n",
      "FID: 88.1215\n",
      "Time: 0.15 min\n",
      "\n",
      "-- Partial --\n",
      "Best Epoch: epoch-18\n",
      "Best FID: 85.1251\n",
      "\n",
      "--------------------------------\n",
      "\n",
      "Epoch: 26\n"
     ]
    },
    {
     "name": "stderr",
     "output_type": "stream",
     "text": [
      "100%|██████████| 30/30 [00:00<00:00, 115.47it/s]\n",
      " 20%|██        | 6/30 [00:00<00:00, 56.66it/s]"
     ]
    },
    {
     "name": "stdout",
     "output_type": "stream",
     "text": [
      "\n",
      "FID: 107.2021\n",
      "Time: 0.15 min\n",
      "\n",
      "-- Partial --\n",
      "Best Epoch: epoch-18\n",
      "Best FID: 85.1251\n",
      "\n",
      "--------------------------------\n",
      "\n",
      "Epoch: 27\n"
     ]
    },
    {
     "name": "stderr",
     "output_type": "stream",
     "text": [
      "100%|██████████| 30/30 [00:00<00:00, 124.83it/s]\n",
      " 20%|██        | 6/30 [00:00<00:00, 55.64it/s]"
     ]
    },
    {
     "name": "stdout",
     "output_type": "stream",
     "text": [
      "\n",
      "FID: 96.5108\n",
      "Time: 0.14 min\n",
      "\n",
      "-- Partial --\n",
      "Best Epoch: epoch-18\n",
      "Best FID: 85.1251\n",
      "\n",
      "--------------------------------\n",
      "\n",
      "Epoch: 28\n"
     ]
    },
    {
     "name": "stderr",
     "output_type": "stream",
     "text": [
      "100%|██████████| 30/30 [00:00<00:00, 107.14it/s]\n",
      " 67%|██████▋   | 20/30 [00:00<00:00, 195.17it/s]"
     ]
    },
    {
     "name": "stdout",
     "output_type": "stream",
     "text": [
      "\n",
      "FID: 107.9212\n",
      "Time: 0.15 min\n",
      "\n",
      "-- Partial --\n",
      "Best Epoch: epoch-18\n",
      "Best FID: 85.1251\n",
      "\n",
      "--------------------------------\n",
      "\n",
      "Epoch: 29\n"
     ]
    },
    {
     "name": "stderr",
     "output_type": "stream",
     "text": [
      "100%|██████████| 30/30 [00:00<00:00, 173.24it/s]\n",
      " 17%|█▋        | 5/30 [00:00<00:00, 41.63it/s]"
     ]
    },
    {
     "name": "stdout",
     "output_type": "stream",
     "text": [
      "\n",
      "FID: 92.6499\n",
      "Time: 0.15 min\n",
      "\n",
      "-- Partial --\n",
      "Best Epoch: epoch-18\n",
      "Best FID: 85.1251\n",
      "\n",
      "--------------------------------\n",
      "\n",
      "Epoch: 30\n"
     ]
    },
    {
     "name": "stderr",
     "output_type": "stream",
     "text": [
      "100%|██████████| 30/30 [00:00<00:00, 108.83it/s]\n",
      " 43%|████▎     | 13/30 [00:00<00:00, 125.89it/s]"
     ]
    },
    {
     "name": "stdout",
     "output_type": "stream",
     "text": [
      "\n",
      "FID: 94.2552\n",
      "Time: 0.15 min\n",
      "\n",
      "-- Partial --\n",
      "Best Epoch: epoch-18\n",
      "Best FID: 85.1251\n",
      "\n",
      "--------------------------------\n",
      "\n",
      "Epoch: 31\n"
     ]
    },
    {
     "name": "stderr",
     "output_type": "stream",
     "text": [
      "100%|██████████| 30/30 [00:00<00:00, 155.64it/s]\n",
      "  7%|▋         | 2/30 [00:00<00:01, 18.27it/s]"
     ]
    },
    {
     "name": "stdout",
     "output_type": "stream",
     "text": [
      "\n",
      "FID: 97.9265\n",
      "Time: 0.15 min\n",
      "\n",
      "-- Partial --\n",
      "Best Epoch: epoch-18\n",
      "Best FID: 85.1251\n",
      "\n",
      "--------------------------------\n",
      "\n",
      "Epoch: 32\n"
     ]
    },
    {
     "name": "stderr",
     "output_type": "stream",
     "text": [
      "100%|██████████| 30/30 [00:00<00:00, 109.12it/s]\n",
      " 67%|██████▋   | 20/30 [00:00<00:00, 162.98it/s]"
     ]
    },
    {
     "name": "stdout",
     "output_type": "stream",
     "text": [
      "\n",
      "FID: 95.6860\n",
      "Time: 0.15 min\n",
      "\n",
      "-- Partial --\n",
      "Best Epoch: epoch-18\n",
      "Best FID: 85.1251\n",
      "\n",
      "--------------------------------\n",
      "\n",
      "Epoch: 33\n"
     ]
    },
    {
     "name": "stderr",
     "output_type": "stream",
     "text": [
      "100%|██████████| 30/30 [00:00<00:00, 150.74it/s]\n",
      " 37%|███▋      | 11/30 [00:00<00:00, 105.63it/s]"
     ]
    },
    {
     "name": "stdout",
     "output_type": "stream",
     "text": [
      "\n",
      "FID: 100.1900\n",
      "Time: 0.15 min\n",
      "\n",
      "-- Partial --\n",
      "Best Epoch: epoch-18\n",
      "Best FID: 85.1251\n",
      "\n",
      "--------------------------------\n",
      "\n",
      "Epoch: 34\n"
     ]
    },
    {
     "name": "stderr",
     "output_type": "stream",
     "text": [
      "100%|██████████| 30/30 [00:00<00:00, 160.34it/s]\n",
      " 37%|███▋      | 11/30 [00:00<00:00, 107.92it/s]"
     ]
    },
    {
     "name": "stdout",
     "output_type": "stream",
     "text": [
      "\n",
      "FID: 94.7479\n",
      "Time: 0.14 min\n",
      "\n",
      "-- Partial --\n",
      "Best Epoch: epoch-18\n",
      "Best FID: 85.1251\n",
      "\n",
      "--------------------------------\n",
      "\n",
      "Epoch: 35\n"
     ]
    },
    {
     "name": "stderr",
     "output_type": "stream",
     "text": [
      "100%|██████████| 30/30 [00:00<00:00, 146.87it/s]\n",
      " 40%|████      | 12/30 [00:00<00:00, 111.99it/s]"
     ]
    },
    {
     "name": "stdout",
     "output_type": "stream",
     "text": [
      "\n",
      "FID: 84.5734\n",
      "Time: 0.15 min\n",
      "\n",
      "-- Partial --\n",
      "Best Epoch: epoch-35\n",
      "Best FID: 84.5734\n",
      "\n",
      "--------------------------------\n",
      "\n",
      "Epoch: 36\n"
     ]
    },
    {
     "name": "stderr",
     "output_type": "stream",
     "text": [
      "100%|██████████| 30/30 [00:00<00:00, 146.84it/s]\n",
      " 30%|███       | 9/30 [00:00<00:00, 81.17it/s]"
     ]
    },
    {
     "name": "stdout",
     "output_type": "stream",
     "text": [
      "\n",
      "FID: 88.9227\n",
      "Time: 0.15 min\n",
      "\n",
      "-- Partial --\n",
      "Best Epoch: epoch-35\n",
      "Best FID: 84.5734\n",
      "\n",
      "--------------------------------\n",
      "\n",
      "Epoch: 37\n"
     ]
    },
    {
     "name": "stderr",
     "output_type": "stream",
     "text": [
      "100%|██████████| 30/30 [00:00<00:00, 128.42it/s]\n",
      " 27%|██▋       | 8/30 [00:00<00:00, 78.15it/s]"
     ]
    },
    {
     "name": "stdout",
     "output_type": "stream",
     "text": [
      "\n",
      "FID: 80.9073\n",
      "Time: 0.14 min\n",
      "\n",
      "-- Partial --\n",
      "Best Epoch: epoch-37\n",
      "Best FID: 80.9073\n",
      "\n",
      "--------------------------------\n",
      "\n",
      "Epoch: 38\n"
     ]
    },
    {
     "name": "stderr",
     "output_type": "stream",
     "text": [
      "100%|██████████| 30/30 [00:00<00:00, 146.75it/s]\n",
      " 47%|████▋     | 14/30 [00:00<00:00, 139.58it/s]"
     ]
    },
    {
     "name": "stdout",
     "output_type": "stream",
     "text": [
      "\n",
      "FID: 80.3874\n",
      "Time: 0.15 min\n",
      "\n",
      "-- Partial --\n",
      "Best Epoch: epoch-38\n",
      "Best FID: 80.3874\n",
      "\n",
      "--------------------------------\n",
      "\n",
      "Epoch: 39\n"
     ]
    },
    {
     "name": "stderr",
     "output_type": "stream",
     "text": [
      "100%|██████████| 30/30 [00:00<00:00, 152.54it/s]\n",
      " 47%|████▋     | 14/30 [00:00<00:00, 139.08it/s]"
     ]
    },
    {
     "name": "stdout",
     "output_type": "stream",
     "text": [
      "\n",
      "FID: 95.5347\n",
      "Time: 0.14 min\n",
      "\n",
      "-- Partial --\n",
      "Best Epoch: epoch-38\n",
      "Best FID: 80.3874\n",
      "\n",
      "--------------------------------\n",
      "\n",
      "Epoch: 40\n"
     ]
    },
    {
     "name": "stderr",
     "output_type": "stream",
     "text": [
      "100%|██████████| 30/30 [00:00<00:00, 159.87it/s]\n",
      " 40%|████      | 12/30 [00:00<00:00, 105.64it/s]"
     ]
    },
    {
     "name": "stdout",
     "output_type": "stream",
     "text": [
      "\n",
      "FID: 87.4648\n",
      "Time: 0.14 min\n",
      "\n",
      "-- Partial --\n",
      "Best Epoch: epoch-38\n",
      "Best FID: 80.3874\n",
      "\n",
      "--------------------------------\n",
      "\n",
      "Epoch: 41\n"
     ]
    },
    {
     "name": "stderr",
     "output_type": "stream",
     "text": [
      "100%|██████████| 30/30 [00:00<00:00, 137.18it/s]\n",
      "100%|██████████| 30/30 [00:00<00:00, 175.24it/s]"
     ]
    },
    {
     "name": "stdout",
     "output_type": "stream",
     "text": [
      "\n",
      "FID: 87.7965\n",
      "Time: 0.15 min\n",
      "\n",
      "-- Partial --\n",
      "Best Epoch: epoch-38\n",
      "Best FID: 80.3874\n",
      "\n",
      "--------------------------------\n",
      "\n",
      "Epoch: 42\n"
     ]
    },
    {
     "name": "stderr",
     "output_type": "stream",
     "text": [
      "\n",
      " 10%|█         | 3/30 [00:00<00:00, 29.25it/s]"
     ]
    },
    {
     "name": "stdout",
     "output_type": "stream",
     "text": [
      "\n",
      "FID: 83.1712\n",
      "Time: 0.14 min\n",
      "\n",
      "-- Partial --\n",
      "Best Epoch: epoch-38\n",
      "Best FID: 80.3874\n",
      "\n",
      "--------------------------------\n",
      "\n",
      "Epoch: 43\n"
     ]
    },
    {
     "name": "stderr",
     "output_type": "stream",
     "text": [
      "100%|██████████| 30/30 [00:00<00:00, 114.85it/s]\n",
      " 40%|████      | 12/30 [00:00<00:00, 102.42it/s]"
     ]
    },
    {
     "name": "stdout",
     "output_type": "stream",
     "text": [
      "\n",
      "FID: 79.5517\n",
      "Time: 0.15 min\n",
      "\n",
      "-- Partial --\n",
      "Best Epoch: epoch-43\n",
      "Best FID: 79.5517\n",
      "\n",
      "--------------------------------\n",
      "\n",
      "Epoch: 44\n"
     ]
    },
    {
     "name": "stderr",
     "output_type": "stream",
     "text": [
      "100%|██████████| 30/30 [00:00<00:00, 127.65it/s]\n",
      " 20%|██        | 6/30 [00:00<00:00, 54.79it/s]"
     ]
    },
    {
     "name": "stdout",
     "output_type": "stream",
     "text": [
      "\n",
      "FID: 96.8809\n",
      "Time: 0.15 min\n",
      "\n",
      "-- Partial --\n",
      "Best Epoch: epoch-43\n",
      "Best FID: 79.5517\n",
      "\n",
      "--------------------------------\n",
      "\n",
      "Epoch: 45\n"
     ]
    },
    {
     "name": "stderr",
     "output_type": "stream",
     "text": [
      "100%|██████████| 30/30 [00:00<00:00, 128.35it/s]\n",
      " 47%|████▋     | 14/30 [00:00<00:00, 118.15it/s]"
     ]
    },
    {
     "name": "stdout",
     "output_type": "stream",
     "text": [
      "\n",
      "FID: 97.0921\n",
      "Time: 0.15 min\n",
      "\n",
      "-- Partial --\n",
      "Best Epoch: epoch-43\n",
      "Best FID: 79.5517\n",
      "\n",
      "--------------------------------\n",
      "\n",
      "Epoch: 46\n"
     ]
    },
    {
     "name": "stderr",
     "output_type": "stream",
     "text": [
      "100%|██████████| 30/30 [00:00<00:00, 146.96it/s]\n",
      "  3%|▎         | 1/30 [00:00<00:03,  8.88it/s]"
     ]
    },
    {
     "name": "stdout",
     "output_type": "stream",
     "text": [
      "\n",
      "FID: 92.4173\n",
      "Time: 0.14 min\n",
      "\n",
      "-- Partial --\n",
      "Best Epoch: epoch-43\n",
      "Best FID: 79.5517\n",
      "\n",
      "--------------------------------\n",
      "\n",
      "Epoch: 47\n"
     ]
    },
    {
     "name": "stderr",
     "output_type": "stream",
     "text": [
      "100%|██████████| 30/30 [00:00<00:00, 118.59it/s]\n",
      " 17%|█▋        | 5/30 [00:00<00:00, 48.80it/s]"
     ]
    },
    {
     "name": "stdout",
     "output_type": "stream",
     "text": [
      "\n",
      "FID: 97.5490\n",
      "Time: 0.15 min\n",
      "\n",
      "-- Partial --\n",
      "Best Epoch: epoch-43\n",
      "Best FID: 79.5517\n",
      "\n",
      "--------------------------------\n",
      "\n",
      "Epoch: 48\n"
     ]
    },
    {
     "name": "stderr",
     "output_type": "stream",
     "text": [
      "100%|██████████| 30/30 [00:00<00:00, 105.58it/s]\n",
      " 47%|████▋     | 14/30 [00:00<00:00, 135.51it/s]"
     ]
    },
    {
     "name": "stdout",
     "output_type": "stream",
     "text": [
      "\n",
      "FID: 108.9808\n",
      "Time: 0.15 min\n",
      "\n",
      "-- Partial --\n",
      "Best Epoch: epoch-43\n",
      "Best FID: 79.5517\n",
      "\n",
      "--------------------------------\n",
      "\n",
      "Epoch: 49\n"
     ]
    },
    {
     "name": "stderr",
     "output_type": "stream",
     "text": [
      "100%|██████████| 30/30 [00:00<00:00, 128.53it/s]\n",
      " 70%|███████   | 21/30 [00:00<00:00, 89.26it/s]"
     ]
    },
    {
     "name": "stdout",
     "output_type": "stream",
     "text": [
      "\n",
      "FID: 88.6932\n",
      "Time: 0.14 min\n",
      "\n",
      "-- Partial --\n",
      "Best Epoch: epoch-43\n",
      "Best FID: 79.5517\n",
      "\n",
      "--------------------------------\n",
      "\n",
      "Epoch: 50\n"
     ]
    },
    {
     "name": "stderr",
     "output_type": "stream",
     "text": [
      "100%|██████████| 30/30 [00:00<00:00, 115.11it/s]\n",
      " 43%|████▎     | 13/30 [00:00<00:00, 129.90it/s]"
     ]
    },
    {
     "name": "stdout",
     "output_type": "stream",
     "text": [
      "\n",
      "FID: 95.3842\n",
      "Time: 0.15 min\n",
      "\n",
      "-- Partial --\n",
      "Best Epoch: epoch-43\n",
      "Best FID: 79.5517\n",
      "\n",
      "--------------------------------\n",
      "\n",
      "Epoch: 51\n"
     ]
    },
    {
     "name": "stderr",
     "output_type": "stream",
     "text": [
      "100%|██████████| 30/30 [00:00<00:00, 156.25it/s]\n",
      " 40%|████      | 12/30 [00:00<00:00, 106.13it/s]"
     ]
    },
    {
     "name": "stdout",
     "output_type": "stream",
     "text": [
      "\n",
      "FID: 94.4357\n",
      "Time: 0.15 min\n",
      "\n",
      "-- Partial --\n",
      "Best Epoch: epoch-43\n",
      "Best FID: 79.5517\n",
      "\n",
      "--------------------------------\n",
      "\n",
      "Epoch: 52\n"
     ]
    },
    {
     "name": "stderr",
     "output_type": "stream",
     "text": [
      "100%|██████████| 30/30 [00:00<00:00, 111.84it/s]\n",
      " 40%|████      | 12/30 [00:00<00:00, 110.46it/s]"
     ]
    },
    {
     "name": "stdout",
     "output_type": "stream",
     "text": [
      "\n",
      "FID: 87.3713\n",
      "Time: 0.15 min\n",
      "\n",
      "-- Partial --\n",
      "Best Epoch: epoch-43\n",
      "Best FID: 79.5517\n",
      "\n",
      "--------------------------------\n",
      "\n",
      "Epoch: 53\n"
     ]
    },
    {
     "name": "stderr",
     "output_type": "stream",
     "text": [
      "100%|██████████| 30/30 [00:00<00:00, 139.37it/s]\n",
      " 27%|██▋       | 8/30 [00:00<00:00, 77.94it/s]"
     ]
    },
    {
     "name": "stdout",
     "output_type": "stream",
     "text": [
      "\n",
      "FID: 85.9565\n",
      "Time: 0.15 min\n",
      "\n",
      "-- Partial --\n",
      "Best Epoch: epoch-43\n",
      "Best FID: 79.5517\n",
      "\n",
      "--------------------------------\n",
      "\n",
      "Epoch: 54\n"
     ]
    },
    {
     "name": "stderr",
     "output_type": "stream",
     "text": [
      "100%|██████████| 30/30 [00:00<00:00, 107.90it/s]\n",
      " 93%|█████████▎| 28/30 [00:00<00:00, 109.82it/s]"
     ]
    },
    {
     "name": "stdout",
     "output_type": "stream",
     "text": [
      "\n",
      "FID: 80.2583\n",
      "Time: 0.15 min\n",
      "\n",
      "-- Partial --\n",
      "Best Epoch: epoch-43\n",
      "Best FID: 79.5517\n",
      "\n",
      "--------------------------------\n",
      "\n",
      "Epoch: 55\n"
     ]
    },
    {
     "name": "stderr",
     "output_type": "stream",
     "text": [
      "100%|██████████| 30/30 [00:00<00:00, 141.00it/s]\n",
      " 47%|████▋     | 14/30 [00:00<00:00, 128.01it/s]"
     ]
    },
    {
     "name": "stdout",
     "output_type": "stream",
     "text": [
      "\n",
      "FID: 89.1292\n",
      "Time: 0.14 min\n",
      "\n",
      "-- Partial --\n",
      "Best Epoch: epoch-43\n",
      "Best FID: 79.5517\n",
      "\n",
      "--------------------------------\n",
      "\n",
      "Epoch: 56\n"
     ]
    },
    {
     "name": "stderr",
     "output_type": "stream",
     "text": [
      "100%|██████████| 30/30 [00:00<00:00, 131.69it/s]\n",
      " 57%|█████▋    | 17/30 [00:00<00:00, 159.30it/s]"
     ]
    },
    {
     "name": "stdout",
     "output_type": "stream",
     "text": [
      "\n",
      "FID: 94.9728\n",
      "Time: 0.15 min\n",
      "\n",
      "-- Partial --\n",
      "Best Epoch: epoch-43\n",
      "Best FID: 79.5517\n",
      "\n",
      "--------------------------------\n",
      "\n",
      "Epoch: 57\n"
     ]
    },
    {
     "name": "stderr",
     "output_type": "stream",
     "text": [
      "100%|██████████| 30/30 [00:00<00:00, 161.21it/s]\n",
      " 43%|████▎     | 13/30 [00:00<00:00, 122.52it/s]"
     ]
    },
    {
     "name": "stdout",
     "output_type": "stream",
     "text": [
      "\n",
      "FID: 78.5113\n",
      "Time: 0.14 min\n",
      "\n",
      "-- Partial --\n",
      "Best Epoch: epoch-57\n",
      "Best FID: 78.5113\n",
      "\n",
      "--------------------------------\n",
      "\n",
      "Epoch: 58\n"
     ]
    },
    {
     "name": "stderr",
     "output_type": "stream",
     "text": [
      "100%|██████████| 30/30 [00:00<00:00, 125.69it/s]\n",
      " 47%|████▋     | 14/30 [00:00<00:00, 138.12it/s]"
     ]
    },
    {
     "name": "stdout",
     "output_type": "stream",
     "text": [
      "\n",
      "FID: 84.3798\n",
      "Time: 0.15 min\n",
      "\n",
      "-- Partial --\n",
      "Best Epoch: epoch-57\n",
      "Best FID: 78.5113\n",
      "\n",
      "--------------------------------\n",
      "\n",
      "Epoch: 59\n"
     ]
    },
    {
     "name": "stderr",
     "output_type": "stream",
     "text": [
      "100%|██████████| 30/30 [00:00<00:00, 124.38it/s]\n",
      " 30%|███       | 9/30 [00:00<00:00, 89.08it/s]"
     ]
    },
    {
     "name": "stdout",
     "output_type": "stream",
     "text": [
      "\n",
      "FID: 86.5689\n",
      "Time: 0.15 min\n",
      "\n",
      "-- Partial --\n",
      "Best Epoch: epoch-57\n",
      "Best FID: 78.5113\n",
      "\n",
      "--------------------------------\n",
      "\n",
      "Epoch: 60\n"
     ]
    },
    {
     "name": "stderr",
     "output_type": "stream",
     "text": [
      "100%|██████████| 30/30 [00:00<00:00, 133.05it/s]\n",
      " 70%|███████   | 21/30 [00:00<00:00, 186.24it/s]"
     ]
    },
    {
     "name": "stdout",
     "output_type": "stream",
     "text": [
      "\n",
      "FID: 80.6623\n",
      "Time: 0.14 min\n",
      "\n",
      "-- Partial --\n",
      "Best Epoch: epoch-57\n",
      "Best FID: 78.5113\n",
      "\n",
      "--------------------------------\n",
      "\n",
      "Epoch: 61\n"
     ]
    },
    {
     "name": "stderr",
     "output_type": "stream",
     "text": [
      "100%|██████████| 30/30 [00:00<00:00, 168.20it/s]\n",
      " 13%|█▎        | 4/30 [00:00<00:00, 35.51it/s]"
     ]
    },
    {
     "name": "stdout",
     "output_type": "stream",
     "text": [
      "\n",
      "FID: 90.2921\n",
      "Time: 0.14 min\n",
      "\n",
      "-- Partial --\n",
      "Best Epoch: epoch-57\n",
      "Best FID: 78.5113\n",
      "\n",
      "--------------------------------\n",
      "\n",
      "Epoch: 62\n"
     ]
    },
    {
     "name": "stderr",
     "output_type": "stream",
     "text": [
      "100%|██████████| 30/30 [00:00<00:00, 83.27it/s]\n",
      " 83%|████████▎ | 25/30 [00:00<00:00, 26.42it/s]"
     ]
    },
    {
     "name": "stdout",
     "output_type": "stream",
     "text": [
      "\n",
      "FID: 79.6032\n",
      "Time: 0.15 min\n",
      "\n",
      "-- Partial --\n",
      "Best Epoch: epoch-57\n",
      "Best FID: 78.5113\n",
      "\n",
      "--------------------------------\n",
      "\n",
      "Epoch: 63\n"
     ]
    },
    {
     "name": "stderr",
     "output_type": "stream",
     "text": [
      "100%|██████████| 30/30 [00:00<00:00, 127.47it/s]\n",
      " 63%|██████▎   | 19/30 [00:00<00:00, 189.47it/s]"
     ]
    },
    {
     "name": "stdout",
     "output_type": "stream",
     "text": [
      "\n",
      "FID: 87.5998\n",
      "Time: 0.15 min\n",
      "\n",
      "-- Partial --\n",
      "Best Epoch: epoch-57\n",
      "Best FID: 78.5113\n",
      "\n",
      "--------------------------------\n",
      "\n",
      "Epoch: 64\n"
     ]
    },
    {
     "name": "stderr",
     "output_type": "stream",
     "text": [
      "100%|██████████| 30/30 [00:00<00:00, 177.31it/s]\n",
      " 40%|████      | 12/30 [00:00<00:00, 119.28it/s]"
     ]
    },
    {
     "name": "stdout",
     "output_type": "stream",
     "text": [
      "\n",
      "FID: 91.0089\n",
      "Time: 0.14 min\n",
      "\n",
      "-- Partial --\n",
      "Best Epoch: epoch-57\n",
      "Best FID: 78.5113\n",
      "\n",
      "--------------------------------\n",
      "\n",
      "Epoch: 65\n"
     ]
    },
    {
     "name": "stderr",
     "output_type": "stream",
     "text": [
      "100%|██████████| 30/30 [00:00<00:00, 168.96it/s]\n",
      "100%|██████████| 30/30 [00:00<00:00, 167.51it/s]"
     ]
    },
    {
     "name": "stdout",
     "output_type": "stream",
     "text": [
      "\n",
      "FID: 89.3145\n",
      "Time: 0.14 min\n",
      "\n",
      "-- Partial --\n",
      "Best Epoch: epoch-57\n",
      "Best FID: 78.5113\n",
      "\n",
      "--------------------------------\n",
      "\n",
      "Epoch: 66\n"
     ]
    },
    {
     "name": "stderr",
     "output_type": "stream",
     "text": [
      "\n",
      " 47%|████▋     | 14/30 [00:00<00:00, 139.57it/s]"
     ]
    },
    {
     "name": "stdout",
     "output_type": "stream",
     "text": [
      "\n",
      "FID: 92.7286\n",
      "Time: 0.14 min\n",
      "\n",
      "-- Partial --\n",
      "Best Epoch: epoch-57\n",
      "Best FID: 78.5113\n",
      "\n",
      "--------------------------------\n",
      "\n",
      "Epoch: 67\n"
     ]
    },
    {
     "name": "stderr",
     "output_type": "stream",
     "text": [
      "100%|██████████| 30/30 [00:00<00:00, 157.51it/s]\n",
      "100%|██████████| 30/30 [00:00<00:00, 181.91it/s]"
     ]
    },
    {
     "name": "stdout",
     "output_type": "stream",
     "text": [
      "\n",
      "FID: 82.2541\n",
      "Time: 0.15 min\n",
      "\n",
      "-- Partial --\n",
      "Best Epoch: epoch-57\n",
      "Best FID: 78.5113\n",
      "\n",
      "--------------------------------\n",
      "\n",
      "Epoch: 68\n"
     ]
    },
    {
     "name": "stderr",
     "output_type": "stream",
     "text": [
      "\n",
      " 87%|████████▋ | 26/30 [00:00<00:00, 94.61it/s]"
     ]
    },
    {
     "name": "stdout",
     "output_type": "stream",
     "text": [
      "\n",
      "FID: 87.4218\n",
      "Time: 0.14 min\n",
      "\n",
      "-- Partial --\n",
      "Best Epoch: epoch-57\n",
      "Best FID: 78.5113\n",
      "\n",
      "--------------------------------\n",
      "\n",
      "Epoch: 69\n"
     ]
    },
    {
     "name": "stderr",
     "output_type": "stream",
     "text": [
      "100%|██████████| 30/30 [00:00<00:00, 136.61it/s]\n",
      " 40%|████      | 12/30 [00:00<00:00, 117.27it/s]"
     ]
    },
    {
     "name": "stdout",
     "output_type": "stream",
     "text": [
      "\n",
      "FID: 82.7757\n",
      "Time: 0.14 min\n",
      "\n",
      "-- Partial --\n",
      "Best Epoch: epoch-57\n",
      "Best FID: 78.5113\n",
      "\n",
      "--------------------------------\n",
      "\n",
      "Epoch: 70\n"
     ]
    },
    {
     "name": "stderr",
     "output_type": "stream",
     "text": [
      "100%|██████████| 30/30 [00:00<00:00, 155.87it/s]\n",
      " 30%|███       | 9/30 [00:00<00:00, 89.21it/s]"
     ]
    },
    {
     "name": "stdout",
     "output_type": "stream",
     "text": [
      "\n",
      "FID: 84.2707\n",
      "Time: 0.14 min\n",
      "\n",
      "-- Partial --\n",
      "Best Epoch: epoch-57\n",
      "Best FID: 78.5113\n",
      "\n",
      "--------------------------------\n",
      "\n",
      "Epoch: 71\n"
     ]
    },
    {
     "name": "stderr",
     "output_type": "stream",
     "text": [
      "100%|██████████| 30/30 [00:00<00:00, 121.52it/s]\n",
      "100%|██████████| 30/30 [00:00<00:00, 190.91it/s]"
     ]
    },
    {
     "name": "stdout",
     "output_type": "stream",
     "text": [
      "\n",
      "FID: 83.3112\n",
      "Time: 0.16 min\n",
      "\n",
      "-- Partial --\n",
      "Best Epoch: epoch-57\n",
      "Best FID: 78.5113\n",
      "\n",
      "--------------------------------\n",
      "\n",
      "Epoch: 72\n"
     ]
    },
    {
     "name": "stderr",
     "output_type": "stream",
     "text": [
      "\n",
      " 33%|███▎      | 10/30 [00:00<00:00, 97.02it/s]"
     ]
    },
    {
     "name": "stdout",
     "output_type": "stream",
     "text": [
      "\n",
      "FID: 77.4300\n",
      "Time: 0.16 min\n",
      "\n",
      "-- Partial --\n",
      "Best Epoch: epoch-72\n",
      "Best FID: 77.4300\n",
      "\n",
      "--------------------------------\n",
      "\n",
      "Epoch: 73\n"
     ]
    },
    {
     "name": "stderr",
     "output_type": "stream",
     "text": [
      "100%|██████████| 30/30 [00:00<00:00, 114.57it/s]\n",
      " 13%|█▎        | 4/30 [00:00<00:00, 33.58it/s]"
     ]
    },
    {
     "name": "stdout",
     "output_type": "stream",
     "text": [
      "\n",
      "FID: 79.4485\n",
      "Time: 0.16 min\n",
      "\n",
      "-- Partial --\n",
      "Best Epoch: epoch-72\n",
      "Best FID: 77.4300\n",
      "\n",
      "--------------------------------\n",
      "\n",
      "Epoch: 74\n"
     ]
    },
    {
     "name": "stderr",
     "output_type": "stream",
     "text": [
      "100%|██████████| 30/30 [00:00<00:00, 129.74it/s]\n",
      " 23%|██▎       | 7/30 [00:00<00:00, 69.25it/s]"
     ]
    },
    {
     "name": "stdout",
     "output_type": "stream",
     "text": [
      "\n",
      "FID: 90.9648\n",
      "Time: 0.15 min\n",
      "\n",
      "-- Partial --\n",
      "Best Epoch: epoch-72\n",
      "Best FID: 77.4300\n",
      "\n",
      "--------------------------------\n",
      "\n",
      "Epoch: 75\n"
     ]
    },
    {
     "name": "stderr",
     "output_type": "stream",
     "text": [
      "100%|██████████| 30/30 [00:00<00:00, 144.71it/s]\n",
      "  7%|▋         | 2/30 [00:00<00:01, 16.14it/s]"
     ]
    },
    {
     "name": "stdout",
     "output_type": "stream",
     "text": [
      "\n",
      "FID: 97.0566\n",
      "Time: 0.15 min\n",
      "\n",
      "-- Partial --\n",
      "Best Epoch: epoch-72\n",
      "Best FID: 77.4300\n",
      "\n",
      "--------------------------------\n",
      "\n",
      "Epoch: 76\n"
     ]
    },
    {
     "name": "stderr",
     "output_type": "stream",
     "text": [
      "100%|██████████| 30/30 [00:00<00:00, 106.25it/s]\n",
      " 90%|█████████ | 27/30 [00:00<00:00, 84.85it/s]"
     ]
    },
    {
     "name": "stdout",
     "output_type": "stream",
     "text": [
      "\n",
      "FID: 78.6556\n",
      "Time: 0.15 min\n",
      "\n",
      "-- Partial --\n",
      "Best Epoch: epoch-72\n",
      "Best FID: 77.4300\n",
      "\n",
      "--------------------------------\n",
      "\n",
      "Epoch: 77\n"
     ]
    },
    {
     "name": "stderr",
     "output_type": "stream",
     "text": [
      "100%|██████████| 30/30 [00:00<00:00, 135.42it/s]\n",
      " 13%|█▎        | 4/30 [00:00<00:00, 39.54it/s]"
     ]
    },
    {
     "name": "stdout",
     "output_type": "stream",
     "text": [
      "\n",
      "FID: 84.1193\n",
      "Time: 0.14 min\n",
      "\n",
      "-- Partial --\n",
      "Best Epoch: epoch-72\n",
      "Best FID: 77.4300\n",
      "\n",
      "--------------------------------\n",
      "\n",
      "Epoch: 78\n"
     ]
    },
    {
     "name": "stderr",
     "output_type": "stream",
     "text": [
      "100%|██████████| 30/30 [00:00<00:00, 119.44it/s]\n",
      "100%|██████████| 30/30 [00:00<00:00, 196.24it/s]"
     ]
    },
    {
     "name": "stdout",
     "output_type": "stream",
     "text": [
      "\n",
      "FID: 83.5414\n",
      "Time: 0.15 min\n",
      "\n",
      "-- Partial --\n",
      "Best Epoch: epoch-72\n",
      "Best FID: 77.4300\n",
      "\n",
      "--------------------------------\n",
      "\n",
      "Epoch: 79\n"
     ]
    },
    {
     "name": "stderr",
     "output_type": "stream",
     "text": [
      "\n",
      " 30%|███       | 9/30 [00:00<00:00, 84.14it/s]"
     ]
    },
    {
     "name": "stdout",
     "output_type": "stream",
     "text": [
      "\n",
      "FID: 70.7240\n",
      "Time: 0.14 min\n",
      "\n",
      "-- Partial --\n",
      "Best Epoch: epoch-79\n",
      "Best FID: 70.7240\n",
      "\n",
      "--------------------------------\n",
      "\n",
      "Epoch: 80\n"
     ]
    },
    {
     "name": "stderr",
     "output_type": "stream",
     "text": [
      "100%|██████████| 30/30 [00:00<00:00, 123.59it/s]\n",
      "100%|██████████| 30/30 [00:00<00:00, 202.56it/s]"
     ]
    },
    {
     "name": "stdout",
     "output_type": "stream",
     "text": [
      "\n",
      "FID: 79.4453\n",
      "Time: 0.15 min\n",
      "\n",
      "-- Partial --\n",
      "Best Epoch: epoch-79\n",
      "Best FID: 70.7240\n",
      "\n",
      "--------------------------------\n",
      "\n",
      "Epoch: 81\n"
     ]
    },
    {
     "name": "stderr",
     "output_type": "stream",
     "text": [
      "\n",
      " 63%|██████▎   | 19/30 [00:00<00:00, 26.43it/s]"
     ]
    },
    {
     "name": "stdout",
     "output_type": "stream",
     "text": [
      "\n",
      "FID: 78.1282\n",
      "Time: 0.14 min\n",
      "\n",
      "-- Partial --\n",
      "Best Epoch: epoch-79\n",
      "Best FID: 70.7240\n",
      "\n",
      "--------------------------------\n",
      "\n",
      "Epoch: 82\n"
     ]
    },
    {
     "name": "stderr",
     "output_type": "stream",
     "text": [
      "100%|██████████| 30/30 [00:00<00:00, 112.06it/s]\n",
      " 27%|██▋       | 8/30 [00:00<00:00, 74.28it/s]"
     ]
    },
    {
     "name": "stdout",
     "output_type": "stream",
     "text": [
      "\n",
      "FID: 77.9780\n",
      "Time: 0.14 min\n",
      "\n",
      "-- Partial --\n",
      "Best Epoch: epoch-79\n",
      "Best FID: 70.7240\n",
      "\n",
      "--------------------------------\n",
      "\n",
      "Epoch: 83\n"
     ]
    },
    {
     "name": "stderr",
     "output_type": "stream",
     "text": [
      "100%|██████████| 30/30 [00:00<00:00, 135.18it/s]\n",
      " 40%|████      | 12/30 [00:00<00:00, 110.10it/s]"
     ]
    },
    {
     "name": "stdout",
     "output_type": "stream",
     "text": [
      "\n",
      "FID: 81.1610\n",
      "Time: 0.15 min\n",
      "\n",
      "-- Partial --\n",
      "Best Epoch: epoch-79\n",
      "Best FID: 70.7240\n",
      "\n",
      "--------------------------------\n",
      "\n",
      "Epoch: 84\n"
     ]
    },
    {
     "name": "stderr",
     "output_type": "stream",
     "text": [
      "100%|██████████| 30/30 [00:00<00:00, 153.67it/s]\n",
      " 40%|████      | 12/30 [00:00<00:00, 115.23it/s]"
     ]
    },
    {
     "name": "stdout",
     "output_type": "stream",
     "text": [
      "\n",
      "FID: 84.2680\n",
      "Time: 0.14 min\n",
      "\n",
      "-- Partial --\n",
      "Best Epoch: epoch-79\n",
      "Best FID: 70.7240\n",
      "\n",
      "--------------------------------\n",
      "\n",
      "Epoch: 85\n"
     ]
    },
    {
     "name": "stderr",
     "output_type": "stream",
     "text": [
      "100%|██████████| 30/30 [00:00<00:00, 159.50it/s]\n",
      " 23%|██▎       | 7/30 [00:00<00:00, 65.33it/s]"
     ]
    },
    {
     "name": "stdout",
     "output_type": "stream",
     "text": [
      "\n",
      "FID: 78.3669\n",
      "Time: 0.14 min\n",
      "\n",
      "-- Partial --\n",
      "Best Epoch: epoch-79\n",
      "Best FID: 70.7240\n",
      "\n",
      "--------------------------------\n",
      "\n",
      "Epoch: 86\n"
     ]
    },
    {
     "name": "stderr",
     "output_type": "stream",
     "text": [
      "100%|██████████| 30/30 [00:00<00:00, 143.02it/s]\n",
      " 70%|███████   | 21/30 [00:00<00:00, 202.59it/s]"
     ]
    },
    {
     "name": "stdout",
     "output_type": "stream",
     "text": [
      "\n",
      "FID: 83.0927\n",
      "Time: 0.14 min\n",
      "\n",
      "-- Partial --\n",
      "Best Epoch: epoch-79\n",
      "Best FID: 70.7240\n",
      "\n",
      "--------------------------------\n",
      "\n",
      "Epoch: 87\n"
     ]
    },
    {
     "name": "stderr",
     "output_type": "stream",
     "text": [
      "100%|██████████| 30/30 [00:00<00:00, 181.49it/s]\n",
      " 23%|██▎       | 7/30 [00:00<00:00, 62.32it/s]"
     ]
    },
    {
     "name": "stdout",
     "output_type": "stream",
     "text": [
      "\n",
      "FID: 88.1617\n",
      "Time: 0.14 min\n",
      "\n",
      "-- Partial --\n",
      "Best Epoch: epoch-79\n",
      "Best FID: 70.7240\n",
      "\n",
      "--------------------------------\n",
      "\n",
      "Epoch: 88\n"
     ]
    },
    {
     "name": "stderr",
     "output_type": "stream",
     "text": [
      "100%|██████████| 30/30 [00:00<00:00, 134.06it/s]\n",
      " 27%|██▋       | 8/30 [00:00<00:00, 77.89it/s]"
     ]
    },
    {
     "name": "stdout",
     "output_type": "stream",
     "text": [
      "\n",
      "FID: 83.4659\n",
      "Time: 0.14 min\n",
      "\n",
      "-- Partial --\n",
      "Best Epoch: epoch-79\n",
      "Best FID: 70.7240\n",
      "\n",
      "--------------------------------\n",
      "\n",
      "Epoch: 89\n"
     ]
    },
    {
     "name": "stderr",
     "output_type": "stream",
     "text": [
      "100%|██████████| 30/30 [00:00<00:00, 137.20it/s]\n",
      " 20%|██        | 6/30 [00:00<00:00, 59.20it/s]"
     ]
    },
    {
     "name": "stdout",
     "output_type": "stream",
     "text": [
      "\n",
      "FID: 86.4416\n",
      "Time: 0.15 min\n",
      "\n",
      "-- Partial --\n",
      "Best Epoch: epoch-79\n",
      "Best FID: 70.7240\n",
      "\n",
      "--------------------------------\n",
      "\n",
      "Epoch: 90\n"
     ]
    },
    {
     "name": "stderr",
     "output_type": "stream",
     "text": [
      "100%|██████████| 30/30 [00:00<00:00, 132.26it/s]\n",
      " 10%|█         | 3/30 [00:00<00:00, 27.18it/s]"
     ]
    },
    {
     "name": "stdout",
     "output_type": "stream",
     "text": [
      "\n",
      "FID: 80.6573\n",
      "Time: 0.14 min\n",
      "\n",
      "-- Partial --\n",
      "Best Epoch: epoch-79\n",
      "Best FID: 70.7240\n",
      "\n",
      "--------------------------------\n",
      "\n",
      "Epoch: 91\n"
     ]
    },
    {
     "name": "stderr",
     "output_type": "stream",
     "text": [
      "100%|██████████| 30/30 [00:00<00:00, 109.61it/s]\n",
      " 57%|█████▋    | 17/30 [00:00<00:00, 167.13it/s]"
     ]
    },
    {
     "name": "stdout",
     "output_type": "stream",
     "text": [
      "\n",
      "FID: 78.8250\n",
      "Time: 0.14 min\n",
      "\n",
      "-- Partial --\n",
      "Best Epoch: epoch-79\n",
      "Best FID: 70.7240\n",
      "\n",
      "--------------------------------\n",
      "\n",
      "Epoch: 92\n"
     ]
    },
    {
     "name": "stderr",
     "output_type": "stream",
     "text": [
      "100%|██████████| 30/30 [00:00<00:00, 176.00it/s]\n",
      " 23%|██▎       | 7/30 [00:00<00:00, 67.76it/s]"
     ]
    },
    {
     "name": "stdout",
     "output_type": "stream",
     "text": [
      "\n",
      "FID: 81.1535\n",
      "Time: 0.14 min\n",
      "\n",
      "-- Partial --\n",
      "Best Epoch: epoch-79\n",
      "Best FID: 70.7240\n",
      "\n",
      "--------------------------------\n",
      "\n",
      "Epoch: 93\n"
     ]
    },
    {
     "name": "stderr",
     "output_type": "stream",
     "text": [
      "100%|██████████| 30/30 [00:00<00:00, 132.06it/s]\n",
      " 57%|█████▋    | 17/30 [00:00<00:00, 167.97it/s]"
     ]
    },
    {
     "name": "stdout",
     "output_type": "stream",
     "text": [
      "\n",
      "FID: 79.7072\n",
      "Time: 0.15 min\n",
      "\n",
      "-- Partial --\n",
      "Best Epoch: epoch-79\n",
      "Best FID: 70.7240\n",
      "\n",
      "--------------------------------\n",
      "\n",
      "Epoch: 94\n"
     ]
    },
    {
     "name": "stderr",
     "output_type": "stream",
     "text": [
      "100%|██████████| 30/30 [00:00<00:00, 179.10it/s]\n",
      " 40%|████      | 12/30 [00:00<00:00, 109.91it/s]"
     ]
    },
    {
     "name": "stdout",
     "output_type": "stream",
     "text": [
      "\n",
      "FID: 82.1798\n",
      "Time: 0.15 min\n",
      "\n",
      "-- Partial --\n",
      "Best Epoch: epoch-79\n",
      "Best FID: 70.7240\n",
      "\n",
      "--------------------------------\n",
      "\n",
      "Epoch: 95\n"
     ]
    },
    {
     "name": "stderr",
     "output_type": "stream",
     "text": [
      "100%|██████████| 30/30 [00:00<00:00, 138.01it/s]\n",
      " 40%|████      | 12/30 [00:00<00:00, 115.85it/s]"
     ]
    },
    {
     "name": "stdout",
     "output_type": "stream",
     "text": [
      "\n",
      "FID: 88.2298\n",
      "Time: 0.14 min\n",
      "\n",
      "-- Partial --\n",
      "Best Epoch: epoch-79\n",
      "Best FID: 70.7240\n",
      "\n",
      "--------------------------------\n",
      "\n",
      "Epoch: 96\n"
     ]
    },
    {
     "name": "stderr",
     "output_type": "stream",
     "text": [
      "100%|██████████| 30/30 [00:00<00:00, 144.86it/s]\n",
      " 40%|████      | 12/30 [00:00<00:00, 108.66it/s]"
     ]
    },
    {
     "name": "stdout",
     "output_type": "stream",
     "text": [
      "\n",
      "FID: 97.3335\n",
      "Time: 0.14 min\n",
      "\n",
      "-- Partial --\n",
      "Best Epoch: epoch-79\n",
      "Best FID: 70.7240\n",
      "\n",
      "--------------------------------\n",
      "\n",
      "Epoch: 97\n"
     ]
    },
    {
     "name": "stderr",
     "output_type": "stream",
     "text": [
      "100%|██████████| 30/30 [00:00<00:00, 160.19it/s]\n",
      "100%|██████████| 30/30 [00:00<00:00, 156.21it/s]"
     ]
    },
    {
     "name": "stdout",
     "output_type": "stream",
     "text": [
      "\n",
      "FID: 83.4434\n",
      "Time: 0.14 min\n",
      "\n",
      "-- Partial --\n",
      "Best Epoch: epoch-79\n",
      "Best FID: 70.7240\n",
      "\n",
      "--------------------------------\n",
      "\n",
      "Epoch: 98\n"
     ]
    },
    {
     "name": "stderr",
     "output_type": "stream",
     "text": [
      "\n",
      "  7%|▋         | 2/30 [00:00<00:01, 19.57it/s]"
     ]
    },
    {
     "name": "stdout",
     "output_type": "stream",
     "text": [
      "\n",
      "FID: 82.7705\n",
      "Time: 0.14 min\n",
      "\n",
      "-- Partial --\n",
      "Best Epoch: epoch-79\n",
      "Best FID: 70.7240\n",
      "\n",
      "--------------------------------\n",
      "\n",
      "Epoch: 99\n"
     ]
    },
    {
     "name": "stderr",
     "output_type": "stream",
     "text": [
      "100%|██████████| 30/30 [00:00<00:00, 112.48it/s]\n",
      " 47%|████▋     | 14/30 [00:00<00:00, 126.09it/s]"
     ]
    },
    {
     "name": "stdout",
     "output_type": "stream",
     "text": [
      "\n",
      "FID: 86.3339\n",
      "Time: 0.15 min\n",
      "\n",
      "-- Partial --\n",
      "Best Epoch: epoch-79\n",
      "Best FID: 70.7240\n",
      "\n",
      "--------------------------------\n",
      "\n",
      "Epoch: 100\n"
     ]
    },
    {
     "name": "stderr",
     "output_type": "stream",
     "text": [
      "100%|██████████| 30/30 [00:00<00:00, 146.90it/s]\n",
      " 13%|█▎        | 4/30 [00:00<00:00, 39.92it/s]"
     ]
    },
    {
     "name": "stdout",
     "output_type": "stream",
     "text": [
      "\n",
      "FID: 73.6455\n",
      "Time: 0.15 min\n",
      "\n",
      "-- Partial --\n",
      "Best Epoch: epoch-79\n",
      "Best FID: 70.7240\n",
      "\n",
      "--------------------------------\n",
      "\n",
      "Epoch: 101\n"
     ]
    },
    {
     "name": "stderr",
     "output_type": "stream",
     "text": [
      "100%|██████████| 30/30 [00:00<00:00, 120.20it/s]\n",
      " 50%|█████     | 15/30 [00:00<00:00, 127.85it/s]"
     ]
    },
    {
     "name": "stdout",
     "output_type": "stream",
     "text": [
      "\n",
      "FID: 85.8960\n",
      "Time: 0.15 min\n",
      "\n",
      "-- Partial --\n",
      "Best Epoch: epoch-79\n",
      "Best FID: 70.7240\n",
      "\n",
      "--------------------------------\n",
      "\n",
      "Epoch: 102\n"
     ]
    },
    {
     "name": "stderr",
     "output_type": "stream",
     "text": [
      "100%|██████████| 30/30 [00:00<00:00, 145.84it/s]\n",
      " 47%|████▋     | 14/30 [00:00<00:00, 131.55it/s]"
     ]
    },
    {
     "name": "stdout",
     "output_type": "stream",
     "text": [
      "\n",
      "FID: 81.7469\n",
      "Time: 0.14 min\n",
      "\n",
      "-- Partial --\n",
      "Best Epoch: epoch-79\n",
      "Best FID: 70.7240\n",
      "\n",
      "--------------------------------\n",
      "\n",
      "Epoch: 103\n"
     ]
    },
    {
     "name": "stderr",
     "output_type": "stream",
     "text": [
      "100%|██████████| 30/30 [00:00<00:00, 153.20it/s]\n",
      "100%|██████████| 30/30 [00:00<00:00, 178.94it/s]"
     ]
    },
    {
     "name": "stdout",
     "output_type": "stream",
     "text": [
      "\n",
      "FID: 76.3083\n",
      "Time: 0.14 min\n",
      "\n",
      "-- Partial --\n",
      "Best Epoch: epoch-79\n",
      "Best FID: 70.7240\n",
      "\n",
      "--------------------------------\n",
      "\n",
      "Epoch: 104\n"
     ]
    },
    {
     "name": "stderr",
     "output_type": "stream",
     "text": [
      "\n",
      " 73%|███████▎  | 22/30 [00:00<00:00, 192.45it/s]"
     ]
    },
    {
     "name": "stdout",
     "output_type": "stream",
     "text": [
      "\n",
      "FID: 84.6232\n",
      "Time: 0.14 min\n",
      "\n",
      "-- Partial --\n",
      "Best Epoch: epoch-79\n",
      "Best FID: 70.7240\n",
      "\n",
      "--------------------------------\n",
      "\n",
      "Epoch: 105\n"
     ]
    },
    {
     "name": "stderr",
     "output_type": "stream",
     "text": [
      "100%|██████████| 30/30 [00:00<00:00, 152.24it/s]\n",
      " 83%|████████▎ | 25/30 [00:00<00:00, 100.75it/s]"
     ]
    },
    {
     "name": "stdout",
     "output_type": "stream",
     "text": [
      "\n",
      "FID: 81.7223\n",
      "Time: 0.14 min\n",
      "\n",
      "-- Partial --\n",
      "Best Epoch: epoch-79\n",
      "Best FID: 70.7240\n",
      "\n",
      "--------------------------------\n",
      "\n",
      "Epoch: 106\n"
     ]
    },
    {
     "name": "stderr",
     "output_type": "stream",
     "text": [
      "100%|██████████| 30/30 [00:00<00:00, 121.00it/s]\n",
      " 47%|████▋     | 14/30 [00:00<00:00, 123.32it/s]"
     ]
    },
    {
     "name": "stdout",
     "output_type": "stream",
     "text": [
      "\n",
      "FID: 86.5338\n",
      "Time: 0.15 min\n",
      "\n",
      "-- Partial --\n",
      "Best Epoch: epoch-79\n",
      "Best FID: 70.7240\n",
      "\n",
      "--------------------------------\n",
      "\n",
      "Epoch: 107\n"
     ]
    },
    {
     "name": "stderr",
     "output_type": "stream",
     "text": [
      "100%|██████████| 30/30 [00:00<00:00, 138.95it/s]\n",
      " 77%|███████▋  | 23/30 [00:00<00:00, 71.54it/s]"
     ]
    },
    {
     "name": "stdout",
     "output_type": "stream",
     "text": [
      "\n",
      "FID: 81.5188\n",
      "Time: 0.15 min\n",
      "\n",
      "-- Partial --\n",
      "Best Epoch: epoch-79\n",
      "Best FID: 70.7240\n",
      "\n",
      "--------------------------------\n",
      "\n",
      "Epoch: 108\n"
     ]
    },
    {
     "name": "stderr",
     "output_type": "stream",
     "text": [
      "100%|██████████| 30/30 [00:00<00:00, 118.91it/s]\n",
      " 33%|███▎      | 10/30 [00:00<00:00, 99.40it/s]"
     ]
    },
    {
     "name": "stdout",
     "output_type": "stream",
     "text": [
      "\n",
      "FID: 86.2655\n",
      "Time: 0.15 min\n",
      "\n",
      "-- Partial --\n",
      "Best Epoch: epoch-79\n",
      "Best FID: 70.7240\n",
      "\n",
      "--------------------------------\n",
      "\n",
      "Epoch: 109\n"
     ]
    },
    {
     "name": "stderr",
     "output_type": "stream",
     "text": [
      "100%|██████████| 30/30 [00:00<00:00, 126.44it/s]\n",
      " 27%|██▋       | 8/30 [00:00<00:00, 72.66it/s]"
     ]
    },
    {
     "name": "stdout",
     "output_type": "stream",
     "text": [
      "\n",
      "FID: 76.1429\n",
      "Time: 0.15 min\n",
      "\n",
      "-- Partial --\n",
      "Best Epoch: epoch-79\n",
      "Best FID: 70.7240\n",
      "\n",
      "--------------------------------\n",
      "\n",
      "Epoch: 110\n"
     ]
    },
    {
     "name": "stderr",
     "output_type": "stream",
     "text": [
      "100%|██████████| 30/30 [00:00<00:00, 133.21it/s]\n",
      " 53%|█████▎    | 16/30 [00:00<00:00, 143.42it/s]"
     ]
    },
    {
     "name": "stdout",
     "output_type": "stream",
     "text": [
      "\n",
      "FID: 77.2056\n",
      "Time: 0.15 min\n",
      "\n",
      "-- Partial --\n",
      "Best Epoch: epoch-79\n",
      "Best FID: 70.7240\n",
      "\n",
      "--------------------------------\n",
      "\n",
      "Epoch: 111\n"
     ]
    },
    {
     "name": "stderr",
     "output_type": "stream",
     "text": [
      "100%|██████████| 30/30 [00:00<00:00, 139.54it/s]\n",
      " 37%|███▋      | 11/30 [00:00<00:00, 103.42it/s]"
     ]
    },
    {
     "name": "stdout",
     "output_type": "stream",
     "text": [
      "\n",
      "FID: 73.3271\n",
      "Time: 0.14 min\n",
      "\n",
      "-- Partial --\n",
      "Best Epoch: epoch-79\n",
      "Best FID: 70.7240\n",
      "\n",
      "--------------------------------\n",
      "\n",
      "Epoch: 112\n"
     ]
    },
    {
     "name": "stderr",
     "output_type": "stream",
     "text": [
      "100%|██████████| 30/30 [00:00<00:00, 131.00it/s]\n",
      " 20%|██        | 6/30 [00:00<00:00, 57.97it/s]"
     ]
    },
    {
     "name": "stdout",
     "output_type": "stream",
     "text": [
      "\n",
      "FID: 91.4060\n",
      "Time: 0.15 min\n",
      "\n",
      "-- Partial --\n",
      "Best Epoch: epoch-79\n",
      "Best FID: 70.7240\n",
      "\n",
      "--------------------------------\n",
      "\n",
      "Epoch: 113\n"
     ]
    },
    {
     "name": "stderr",
     "output_type": "stream",
     "text": [
      "100%|██████████| 30/30 [00:00<00:00, 133.21it/s]\n",
      " 13%|█▎        | 4/30 [00:00<00:00, 36.41it/s]"
     ]
    },
    {
     "name": "stdout",
     "output_type": "stream",
     "text": [
      "\n",
      "FID: 83.6893\n",
      "Time: 0.14 min\n",
      "\n",
      "-- Partial --\n",
      "Best Epoch: epoch-79\n",
      "Best FID: 70.7240\n",
      "\n",
      "--------------------------------\n",
      "\n",
      "Epoch: 114\n"
     ]
    },
    {
     "name": "stderr",
     "output_type": "stream",
     "text": [
      "100%|██████████| 30/30 [00:00<00:00, 110.00it/s]\n",
      " 30%|███       | 9/30 [00:00<00:00, 85.29it/s]"
     ]
    },
    {
     "name": "stdout",
     "output_type": "stream",
     "text": [
      "\n",
      "FID: 82.7614\n",
      "Time: 0.15 min\n",
      "\n",
      "-- Partial --\n",
      "Best Epoch: epoch-79\n",
      "Best FID: 70.7240\n",
      "\n",
      "--------------------------------\n",
      "\n",
      "Epoch: 115\n"
     ]
    },
    {
     "name": "stderr",
     "output_type": "stream",
     "text": [
      "100%|██████████| 30/30 [00:00<00:00, 113.55it/s]\n",
      " 17%|█▋        | 5/30 [00:00<00:00, 42.91it/s]"
     ]
    },
    {
     "name": "stdout",
     "output_type": "stream",
     "text": [
      "\n",
      "FID: 77.3053\n",
      "Time: 0.15 min\n",
      "\n",
      "-- Partial --\n",
      "Best Epoch: epoch-79\n",
      "Best FID: 70.7240\n",
      "\n",
      "--------------------------------\n",
      "\n",
      "Epoch: 116\n"
     ]
    },
    {
     "name": "stderr",
     "output_type": "stream",
     "text": [
      "100%|██████████| 30/30 [00:00<00:00, 116.48it/s]\n",
      " 13%|█▎        | 4/30 [00:00<00:00, 39.45it/s]"
     ]
    },
    {
     "name": "stdout",
     "output_type": "stream",
     "text": [
      "\n",
      "FID: 78.0131\n",
      "Time: 0.15 min\n",
      "\n",
      "-- Partial --\n",
      "Best Epoch: epoch-79\n",
      "Best FID: 70.7240\n",
      "\n",
      "--------------------------------\n",
      "\n",
      "Epoch: 117\n"
     ]
    },
    {
     "name": "stderr",
     "output_type": "stream",
     "text": [
      "100%|██████████| 30/30 [00:00<00:00, 106.04it/s]\n",
      " 40%|████      | 12/30 [00:00<00:00, 109.91it/s]"
     ]
    },
    {
     "name": "stdout",
     "output_type": "stream",
     "text": [
      "\n",
      "FID: 76.6424\n",
      "Time: 0.15 min\n",
      "\n",
      "-- Partial --\n",
      "Best Epoch: epoch-79\n",
      "Best FID: 70.7240\n",
      "\n",
      "--------------------------------\n",
      "\n",
      "Epoch: 118\n"
     ]
    },
    {
     "name": "stderr",
     "output_type": "stream",
     "text": [
      "100%|██████████| 30/30 [00:00<00:00, 148.76it/s]\n",
      " 60%|██████    | 18/30 [00:00<00:00, 171.29it/s]"
     ]
    },
    {
     "name": "stdout",
     "output_type": "stream",
     "text": [
      "\n",
      "FID: 82.2984\n",
      "Time: 0.14 min\n",
      "\n",
      "-- Partial --\n",
      "Best Epoch: epoch-79\n",
      "Best FID: 70.7240\n",
      "\n",
      "--------------------------------\n",
      "\n",
      "Epoch: 119\n"
     ]
    },
    {
     "name": "stderr",
     "output_type": "stream",
     "text": [
      "100%|██████████| 30/30 [00:00<00:00, 162.35it/s]\n",
      " 17%|█▋        | 5/30 [00:00<00:00, 49.55it/s]"
     ]
    },
    {
     "name": "stdout",
     "output_type": "stream",
     "text": [
      "\n",
      "FID: 74.1577\n",
      "Time: 0.15 min\n",
      "\n",
      "-- Partial --\n",
      "Best Epoch: epoch-79\n",
      "Best FID: 70.7240\n",
      "\n",
      "--------------------------------\n",
      "\n",
      "Epoch: 120\n"
     ]
    },
    {
     "name": "stderr",
     "output_type": "stream",
     "text": [
      "100%|██████████| 30/30 [00:00<00:00, 112.46it/s]\n",
      "100%|██████████| 30/30 [00:00<00:00, 174.21it/s]"
     ]
    },
    {
     "name": "stdout",
     "output_type": "stream",
     "text": [
      "\n",
      "FID: 87.6907\n",
      "Time: 0.14 min\n",
      "\n",
      "-- Partial --\n",
      "Best Epoch: epoch-79\n",
      "Best FID: 70.7240\n",
      "\n",
      "--------------------------------\n",
      "\n",
      "Epoch: 121\n"
     ]
    },
    {
     "name": "stderr",
     "output_type": "stream",
     "text": [
      "\n",
      " 77%|███████▋  | 23/30 [00:00<00:00, 199.08it/s]"
     ]
    },
    {
     "name": "stdout",
     "output_type": "stream",
     "text": [
      "\n",
      "FID: 70.6784\n",
      "Time: 0.14 min\n",
      "\n",
      "-- Partial --\n",
      "Best Epoch: epoch-121\n",
      "Best FID: 70.6784\n",
      "\n",
      "--------------------------------\n",
      "\n",
      "Epoch: 122\n"
     ]
    },
    {
     "name": "stderr",
     "output_type": "stream",
     "text": [
      "100%|██████████| 30/30 [00:00<00:00, 160.95it/s]\n",
      " 53%|█████▎    | 16/30 [00:00<00:00, 145.62it/s]"
     ]
    },
    {
     "name": "stdout",
     "output_type": "stream",
     "text": [
      "\n",
      "FID: 83.3103\n",
      "Time: 0.15 min\n",
      "\n",
      "-- Partial --\n",
      "Best Epoch: epoch-121\n",
      "Best FID: 70.6784\n",
      "\n",
      "--------------------------------\n",
      "\n",
      "Epoch: 123\n"
     ]
    },
    {
     "name": "stderr",
     "output_type": "stream",
     "text": [
      "100%|██████████| 30/30 [00:00<00:00, 141.42it/s]\n",
      " 33%|███▎      | 10/30 [00:00<00:00, 99.13it/s]"
     ]
    },
    {
     "name": "stdout",
     "output_type": "stream",
     "text": [
      "\n",
      "FID: 75.6118\n",
      "Time: 0.14 min\n",
      "\n",
      "-- Partial --\n",
      "Best Epoch: epoch-121\n",
      "Best FID: 70.6784\n",
      "\n",
      "--------------------------------\n",
      "\n",
      "Epoch: 124\n"
     ]
    },
    {
     "name": "stderr",
     "output_type": "stream",
     "text": [
      "100%|██████████| 30/30 [00:00<00:00, 125.16it/s]\n",
      " 23%|██▎       | 7/30 [00:00<00:00, 69.92it/s]"
     ]
    },
    {
     "name": "stdout",
     "output_type": "stream",
     "text": [
      "\n",
      "FID: 93.0706\n",
      "Time: 0.14 min\n",
      "\n",
      "-- Partial --\n",
      "Best Epoch: epoch-121\n",
      "Best FID: 70.6784\n",
      "\n",
      "--------------------------------\n",
      "\n",
      "Epoch: 125\n"
     ]
    },
    {
     "name": "stderr",
     "output_type": "stream",
     "text": [
      "100%|██████████| 30/30 [00:00<00:00, 130.90it/s]\n",
      " 43%|████▎     | 13/30 [00:00<00:00, 119.64it/s]"
     ]
    },
    {
     "name": "stdout",
     "output_type": "stream",
     "text": [
      "\n",
      "FID: 81.7644\n",
      "Time: 0.14 min\n",
      "\n",
      "-- Partial --\n",
      "Best Epoch: epoch-121\n",
      "Best FID: 70.6784\n",
      "\n",
      "--------------------------------\n",
      "\n",
      "Epoch: 126\n"
     ]
    },
    {
     "name": "stderr",
     "output_type": "stream",
     "text": [
      "100%|██████████| 30/30 [00:00<00:00, 151.72it/s]\n",
      " 13%|█▎        | 4/30 [00:00<00:00, 39.59it/s]"
     ]
    },
    {
     "name": "stdout",
     "output_type": "stream",
     "text": [
      "\n",
      "FID: 74.5445\n",
      "Time: 0.14 min\n",
      "\n",
      "-- Partial --\n",
      "Best Epoch: epoch-121\n",
      "Best FID: 70.6784\n",
      "\n",
      "--------------------------------\n",
      "\n",
      "Epoch: 127\n"
     ]
    },
    {
     "name": "stderr",
     "output_type": "stream",
     "text": [
      "100%|██████████| 30/30 [00:00<00:00, 123.66it/s]\n",
      " 40%|████      | 12/30 [00:00<00:00, 115.66it/s]"
     ]
    },
    {
     "name": "stdout",
     "output_type": "stream",
     "text": [
      "\n",
      "FID: 77.2727\n",
      "Time: 0.15 min\n",
      "\n",
      "-- Partial --\n",
      "Best Epoch: epoch-121\n",
      "Best FID: 70.6784\n",
      "\n",
      "--------------------------------\n",
      "\n",
      "Epoch: 128\n"
     ]
    },
    {
     "name": "stderr",
     "output_type": "stream",
     "text": [
      "100%|██████████| 30/30 [00:00<00:00, 146.09it/s]\n",
      " 13%|█▎        | 4/30 [00:00<00:00, 38.75it/s]"
     ]
    },
    {
     "name": "stdout",
     "output_type": "stream",
     "text": [
      "\n",
      "FID: 83.7259\n",
      "Time: 0.15 min\n",
      "\n",
      "-- Partial --\n",
      "Best Epoch: epoch-121\n",
      "Best FID: 70.6784\n",
      "\n",
      "--------------------------------\n",
      "\n",
      "Epoch: 129\n"
     ]
    },
    {
     "name": "stderr",
     "output_type": "stream",
     "text": [
      "100%|██████████| 30/30 [00:00<00:00, 118.76it/s]\n",
      " 47%|████▋     | 14/30 [00:00<00:00, 47.63it/s]"
     ]
    },
    {
     "name": "stdout",
     "output_type": "stream",
     "text": [
      "\n",
      "FID: 73.1186\n",
      "Time: 0.14 min\n",
      "\n",
      "-- Partial --\n",
      "Best Epoch: epoch-121\n",
      "Best FID: 70.6784\n",
      "\n",
      "--------------------------------\n",
      "\n",
      "Epoch: 130\n"
     ]
    },
    {
     "name": "stderr",
     "output_type": "stream",
     "text": [
      "100%|██████████| 30/30 [00:00<00:00, 107.87it/s]\n",
      " 30%|███       | 9/30 [00:00<00:00, 88.24it/s]"
     ]
    },
    {
     "name": "stdout",
     "output_type": "stream",
     "text": [
      "\n",
      "FID: 75.8381\n",
      "Time: 0.15 min\n",
      "\n",
      "-- Partial --\n",
      "Best Epoch: epoch-121\n",
      "Best FID: 70.6784\n",
      "\n",
      "--------------------------------\n",
      "\n",
      "Epoch: 131\n"
     ]
    },
    {
     "name": "stderr",
     "output_type": "stream",
     "text": [
      "100%|██████████| 30/30 [00:00<00:00, 136.48it/s]\n",
      " 40%|████      | 12/30 [00:00<00:00, 115.67it/s]"
     ]
    },
    {
     "name": "stdout",
     "output_type": "stream",
     "text": [
      "\n",
      "FID: 74.6430\n",
      "Time: 0.14 min\n",
      "\n",
      "-- Partial --\n",
      "Best Epoch: epoch-121\n",
      "Best FID: 70.6784\n",
      "\n",
      "--------------------------------\n",
      "\n",
      "Epoch: 132\n"
     ]
    },
    {
     "name": "stderr",
     "output_type": "stream",
     "text": [
      "100%|██████████| 30/30 [00:00<00:00, 152.14it/s]\n",
      " 27%|██▋       | 8/30 [00:00<00:00, 77.19it/s]"
     ]
    },
    {
     "name": "stdout",
     "output_type": "stream",
     "text": [
      "\n",
      "FID: 77.4636\n",
      "Time: 0.15 min\n",
      "\n",
      "-- Partial --\n",
      "Best Epoch: epoch-121\n",
      "Best FID: 70.6784\n",
      "\n",
      "--------------------------------\n",
      "\n",
      "Epoch: 133\n"
     ]
    },
    {
     "name": "stderr",
     "output_type": "stream",
     "text": [
      "100%|██████████| 30/30 [00:00<00:00, 99.73it/s]\n",
      " 27%|██▋       | 8/30 [00:00<00:00, 78.05it/s]"
     ]
    },
    {
     "name": "stdout",
     "output_type": "stream",
     "text": [
      "\n",
      "FID: 72.7045\n",
      "Time: 0.15 min\n",
      "\n",
      "-- Partial --\n",
      "Best Epoch: epoch-121\n",
      "Best FID: 70.6784\n",
      "\n",
      "--------------------------------\n",
      "\n",
      "Epoch: 134\n"
     ]
    },
    {
     "name": "stderr",
     "output_type": "stream",
     "text": [
      "100%|██████████| 30/30 [00:00<00:00, 94.40it/s]\n",
      "  7%|▋         | 2/30 [00:00<00:01, 16.18it/s]"
     ]
    },
    {
     "name": "stdout",
     "output_type": "stream",
     "text": [
      "\n",
      "FID: 74.0349\n",
      "Time: 0.14 min\n",
      "\n",
      "-- Partial --\n",
      "Best Epoch: epoch-121\n",
      "Best FID: 70.6784\n",
      "\n",
      "--------------------------------\n",
      "\n",
      "Epoch: 135\n"
     ]
    },
    {
     "name": "stderr",
     "output_type": "stream",
     "text": [
      "100%|██████████| 30/30 [00:00<00:00, 105.43it/s]\n",
      " 10%|█         | 3/30 [00:00<00:01, 25.40it/s]"
     ]
    },
    {
     "name": "stdout",
     "output_type": "stream",
     "text": [
      "\n",
      "FID: 77.5575\n",
      "Time: 0.15 min\n",
      "\n",
      "-- Partial --\n",
      "Best Epoch: epoch-121\n",
      "Best FID: 70.6784\n",
      "\n",
      "--------------------------------\n",
      "\n",
      "Epoch: 136\n"
     ]
    },
    {
     "name": "stderr",
     "output_type": "stream",
     "text": [
      "100%|██████████| 30/30 [00:00<00:00, 80.91it/s]\n",
      "  7%|▋         | 2/30 [00:00<00:01, 18.18it/s]"
     ]
    },
    {
     "name": "stdout",
     "output_type": "stream",
     "text": [
      "\n",
      "FID: 73.4226\n",
      "Time: 0.15 min\n",
      "\n",
      "-- Partial --\n",
      "Best Epoch: epoch-121\n",
      "Best FID: 70.6784\n",
      "\n",
      "--------------------------------\n",
      "\n",
      "Epoch: 137\n"
     ]
    },
    {
     "name": "stderr",
     "output_type": "stream",
     "text": [
      "100%|██████████| 30/30 [00:00<00:00, 102.25it/s]\n",
      " 17%|█▋        | 5/30 [00:00<00:00, 49.40it/s]"
     ]
    },
    {
     "name": "stdout",
     "output_type": "stream",
     "text": [
      "\n",
      "FID: 72.9989\n",
      "Time: 0.15 min\n",
      "\n",
      "-- Partial --\n",
      "Best Epoch: epoch-121\n",
      "Best FID: 70.6784\n",
      "\n",
      "--------------------------------\n",
      "\n",
      "Epoch: 138\n"
     ]
    },
    {
     "name": "stderr",
     "output_type": "stream",
     "text": [
      "100%|██████████| 30/30 [00:00<00:00, 112.75it/s]\n",
      " 10%|█         | 3/30 [00:00<00:00, 29.57it/s]"
     ]
    },
    {
     "name": "stdout",
     "output_type": "stream",
     "text": [
      "\n",
      "FID: 78.4645\n",
      "Time: 0.15 min\n",
      "\n",
      "-- Partial --\n",
      "Best Epoch: epoch-121\n",
      "Best FID: 70.6784\n",
      "\n",
      "--------------------------------\n",
      "\n",
      "Epoch: 139\n"
     ]
    },
    {
     "name": "stderr",
     "output_type": "stream",
     "text": [
      "100%|██████████| 30/30 [00:00<00:00, 98.96it/s]\n",
      "  7%|▋         | 2/30 [00:00<00:01, 16.16it/s]"
     ]
    },
    {
     "name": "stdout",
     "output_type": "stream",
     "text": [
      "\n",
      "FID: 74.2621\n",
      "Time: 0.15 min\n",
      "\n",
      "-- Partial --\n",
      "Best Epoch: epoch-121\n",
      "Best FID: 70.6784\n",
      "\n",
      "--------------------------------\n",
      "\n",
      "Epoch: 140\n"
     ]
    },
    {
     "name": "stderr",
     "output_type": "stream",
     "text": [
      "100%|██████████| 30/30 [00:00<00:00, 107.80it/s]\n",
      " 23%|██▎       | 7/30 [00:00<00:00, 68.89it/s]"
     ]
    },
    {
     "name": "stdout",
     "output_type": "stream",
     "text": [
      "\n",
      "FID: 82.1463\n",
      "Time: 0.15 min\n",
      "\n",
      "-- Partial --\n",
      "Best Epoch: epoch-121\n",
      "Best FID: 70.6784\n",
      "\n",
      "--------------------------------\n",
      "\n",
      "Epoch: 141\n"
     ]
    },
    {
     "name": "stderr",
     "output_type": "stream",
     "text": [
      "100%|██████████| 30/30 [00:00<00:00, 122.32it/s]\n",
      " 10%|█         | 3/30 [00:00<00:01, 25.48it/s]"
     ]
    },
    {
     "name": "stdout",
     "output_type": "stream",
     "text": [
      "\n",
      "FID: 81.2220\n",
      "Time: 0.15 min\n",
      "\n",
      "-- Partial --\n",
      "Best Epoch: epoch-121\n",
      "Best FID: 70.6784\n",
      "\n",
      "--------------------------------\n",
      "\n",
      "Epoch: 142\n"
     ]
    },
    {
     "name": "stderr",
     "output_type": "stream",
     "text": [
      "100%|██████████| 30/30 [00:00<00:00, 86.38it/s]\n",
      " 23%|██▎       | 7/30 [00:00<00:00, 63.79it/s]"
     ]
    },
    {
     "name": "stdout",
     "output_type": "stream",
     "text": [
      "\n",
      "FID: 87.8777\n",
      "Time: 0.15 min\n",
      "\n",
      "-- Partial --\n",
      "Best Epoch: epoch-121\n",
      "Best FID: 70.6784\n",
      "\n",
      "--------------------------------\n",
      "\n",
      "Epoch: 143\n"
     ]
    },
    {
     "name": "stderr",
     "output_type": "stream",
     "text": [
      "100%|██████████| 30/30 [00:00<00:00, 116.76it/s]\n",
      " 27%|██▋       | 8/30 [00:00<00:00, 77.59it/s]"
     ]
    },
    {
     "name": "stdout",
     "output_type": "stream",
     "text": [
      "\n",
      "FID: 80.8728\n",
      "Time: 0.14 min\n",
      "\n",
      "-- Partial --\n",
      "Best Epoch: epoch-121\n",
      "Best FID: 70.6784\n",
      "\n",
      "--------------------------------\n",
      "\n",
      "Epoch: 144\n"
     ]
    },
    {
     "name": "stderr",
     "output_type": "stream",
     "text": [
      "100%|██████████| 30/30 [00:00<00:00, 124.80it/s]\n",
      " 40%|████      | 12/30 [00:00<00:00, 111.01it/s]"
     ]
    },
    {
     "name": "stdout",
     "output_type": "stream",
     "text": [
      "\n",
      "FID: 80.9056\n",
      "Time: 0.14 min\n",
      "\n",
      "-- Partial --\n",
      "Best Epoch: epoch-121\n",
      "Best FID: 70.6784\n",
      "\n",
      "--------------------------------\n",
      "\n",
      "Epoch: 145\n"
     ]
    },
    {
     "name": "stderr",
     "output_type": "stream",
     "text": [
      "100%|██████████| 30/30 [00:00<00:00, 132.12it/s]\n",
      "  7%|▋         | 2/30 [00:00<00:01, 16.70it/s]"
     ]
    },
    {
     "name": "stdout",
     "output_type": "stream",
     "text": [
      "\n",
      "FID: 93.3564\n",
      "Time: 0.14 min\n",
      "\n",
      "-- Partial --\n",
      "Best Epoch: epoch-121\n",
      "Best FID: 70.6784\n",
      "\n",
      "--------------------------------\n",
      "\n",
      "Epoch: 146\n"
     ]
    },
    {
     "name": "stderr",
     "output_type": "stream",
     "text": [
      "100%|██████████| 30/30 [00:00<00:00, 101.23it/s]\n",
      " 20%|██        | 6/30 [00:00<00:00, 50.80it/s]"
     ]
    },
    {
     "name": "stdout",
     "output_type": "stream",
     "text": [
      "\n",
      "FID: 75.0978\n",
      "Time: 0.15 min\n",
      "\n",
      "-- Partial --\n",
      "Best Epoch: epoch-121\n",
      "Best FID: 70.6784\n",
      "\n",
      "--------------------------------\n",
      "\n",
      "Epoch: 147\n"
     ]
    },
    {
     "name": "stderr",
     "output_type": "stream",
     "text": [
      "100%|██████████| 30/30 [00:00<00:00, 98.85it/s]\n",
      "  7%|▋         | 2/30 [00:00<00:01, 17.24it/s]"
     ]
    },
    {
     "name": "stdout",
     "output_type": "stream",
     "text": [
      "\n",
      "FID: 72.6536\n",
      "Time: 0.15 min\n",
      "\n",
      "-- Partial --\n",
      "Best Epoch: epoch-121\n",
      "Best FID: 70.6784\n",
      "\n",
      "--------------------------------\n",
      "\n",
      "Epoch: 148\n"
     ]
    },
    {
     "name": "stderr",
     "output_type": "stream",
     "text": [
      "100%|██████████| 30/30 [00:00<00:00, 99.20it/s]\n",
      " 37%|███▋      | 11/30 [00:00<00:00, 109.18it/s]"
     ]
    },
    {
     "name": "stdout",
     "output_type": "stream",
     "text": [
      "\n",
      "FID: 77.3095\n",
      "Time: 0.15 min\n",
      "\n",
      "-- Partial --\n",
      "Best Epoch: epoch-121\n",
      "Best FID: 70.6784\n",
      "\n",
      "--------------------------------\n",
      "\n",
      "Epoch: 149\n"
     ]
    },
    {
     "name": "stderr",
     "output_type": "stream",
     "text": [
      "100%|██████████| 30/30 [00:00<00:00, 128.29it/s]\n",
      "  7%|▋         | 2/30 [00:00<00:01, 16.12it/s]"
     ]
    },
    {
     "name": "stdout",
     "output_type": "stream",
     "text": [
      "\n",
      "FID: 79.6370\n",
      "Time: 0.14 min\n",
      "\n",
      "-- Partial --\n",
      "Best Epoch: epoch-121\n",
      "Best FID: 70.6784\n",
      "\n",
      "--------------------------------\n",
      "\n",
      "Epoch: 150\n"
     ]
    },
    {
     "name": "stderr",
     "output_type": "stream",
     "text": [
      "100%|██████████| 30/30 [00:00<00:00, 79.39it/s]\n",
      "  7%|▋         | 2/30 [00:00<00:01, 15.46it/s]"
     ]
    },
    {
     "name": "stdout",
     "output_type": "stream",
     "text": [
      "\n",
      "FID: 80.8689\n",
      "Time: 0.15 min\n",
      "\n",
      "-- Partial --\n",
      "Best Epoch: epoch-121\n",
      "Best FID: 70.6784\n",
      "\n",
      "--------------------------------\n",
      "\n",
      "Epoch: 151\n"
     ]
    },
    {
     "name": "stderr",
     "output_type": "stream",
     "text": [
      "100%|██████████| 30/30 [00:00<00:00, 91.67it/s]\n",
      " 53%|█████▎    | 16/30 [00:00<00:00, 126.49it/s]"
     ]
    },
    {
     "name": "stdout",
     "output_type": "stream",
     "text": [
      "\n",
      "FID: 73.2373\n",
      "Time: 0.15 min\n",
      "\n",
      "-- Partial --\n",
      "Best Epoch: epoch-121\n",
      "Best FID: 70.6784\n",
      "\n",
      "--------------------------------\n",
      "\n",
      "Epoch: 152\n"
     ]
    },
    {
     "name": "stderr",
     "output_type": "stream",
     "text": [
      "100%|██████████| 30/30 [00:00<00:00, 144.36it/s]\n",
      " 30%|███       | 9/30 [00:00<00:00, 79.31it/s]"
     ]
    },
    {
     "name": "stdout",
     "output_type": "stream",
     "text": [
      "\n",
      "FID: 78.0160\n",
      "Time: 0.14 min\n",
      "\n",
      "-- Partial --\n",
      "Best Epoch: epoch-121\n",
      "Best FID: 70.6784\n",
      "\n",
      "--------------------------------\n",
      "\n",
      "Epoch: 153\n"
     ]
    },
    {
     "name": "stderr",
     "output_type": "stream",
     "text": [
      "100%|██████████| 30/30 [00:00<00:00, 101.37it/s]\n",
      " 20%|██        | 6/30 [00:00<00:00, 56.49it/s]"
     ]
    },
    {
     "name": "stdout",
     "output_type": "stream",
     "text": [
      "\n",
      "FID: 77.8298\n",
      "Time: 0.15 min\n",
      "\n",
      "-- Partial --\n",
      "Best Epoch: epoch-121\n",
      "Best FID: 70.6784\n",
      "\n",
      "--------------------------------\n",
      "\n",
      "Epoch: 154\n"
     ]
    },
    {
     "name": "stderr",
     "output_type": "stream",
     "text": [
      "100%|██████████| 30/30 [00:00<00:00, 117.10it/s]\n",
      " 20%|██        | 6/30 [00:00<00:00, 56.29it/s]"
     ]
    },
    {
     "name": "stdout",
     "output_type": "stream",
     "text": [
      "\n",
      "FID: 80.8825\n",
      "Time: 0.14 min\n",
      "\n",
      "-- Partial --\n",
      "Best Epoch: epoch-121\n",
      "Best FID: 70.6784\n",
      "\n",
      "--------------------------------\n",
      "\n",
      "Epoch: 155\n"
     ]
    },
    {
     "name": "stderr",
     "output_type": "stream",
     "text": [
      "100%|██████████| 30/30 [00:00<00:00, 118.69it/s]\n",
      " 40%|████      | 12/30 [00:00<00:00, 105.30it/s]"
     ]
    },
    {
     "name": "stdout",
     "output_type": "stream",
     "text": [
      "\n",
      "FID: 84.8477\n",
      "Time: 0.14 min\n",
      "\n",
      "-- Partial --\n",
      "Best Epoch: epoch-121\n",
      "Best FID: 70.6784\n",
      "\n",
      "--------------------------------\n",
      "\n",
      "Epoch: 156\n"
     ]
    },
    {
     "name": "stderr",
     "output_type": "stream",
     "text": [
      "100%|██████████| 30/30 [00:00<00:00, 132.81it/s]\n",
      " 20%|██        | 6/30 [00:00<00:00, 59.27it/s]"
     ]
    },
    {
     "name": "stdout",
     "output_type": "stream",
     "text": [
      "\n",
      "FID: 72.5866\n",
      "Time: 0.15 min\n",
      "\n",
      "-- Partial --\n",
      "Best Epoch: epoch-121\n",
      "Best FID: 70.6784\n",
      "\n",
      "--------------------------------\n",
      "\n",
      "Epoch: 157\n"
     ]
    },
    {
     "name": "stderr",
     "output_type": "stream",
     "text": [
      "100%|██████████| 30/30 [00:00<00:00, 111.27it/s]\n",
      " 50%|█████     | 15/30 [00:00<00:00, 140.88it/s]"
     ]
    },
    {
     "name": "stdout",
     "output_type": "stream",
     "text": [
      "\n",
      "FID: 87.4206\n",
      "Time: 0.15 min\n",
      "\n",
      "-- Partial --\n",
      "Best Epoch: epoch-121\n",
      "Best FID: 70.6784\n",
      "\n",
      "--------------------------------\n",
      "\n",
      "Epoch: 158\n"
     ]
    },
    {
     "name": "stderr",
     "output_type": "stream",
     "text": [
      "100%|██████████| 30/30 [00:00<00:00, 153.90it/s]\n",
      "  7%|▋         | 2/30 [00:00<00:01, 18.92it/s]"
     ]
    },
    {
     "name": "stdout",
     "output_type": "stream",
     "text": [
      "\n",
      "FID: 74.4893\n",
      "Time: 0.14 min\n",
      "\n",
      "-- Partial --\n",
      "Best Epoch: epoch-121\n",
      "Best FID: 70.6784\n",
      "\n",
      "--------------------------------\n",
      "\n",
      "Epoch: 159\n"
     ]
    },
    {
     "name": "stderr",
     "output_type": "stream",
     "text": [
      "100%|██████████| 30/30 [00:00<00:00, 93.60it/s]\n",
      " 20%|██        | 6/30 [00:00<00:00, 59.73it/s]"
     ]
    },
    {
     "name": "stdout",
     "output_type": "stream",
     "text": [
      "\n",
      "FID: 80.6258\n",
      "Time: 0.14 min\n",
      "\n",
      "-- Partial --\n",
      "Best Epoch: epoch-121\n",
      "Best FID: 70.6784\n",
      "\n",
      "--------------------------------\n",
      "\n",
      "Epoch: 160\n"
     ]
    },
    {
     "name": "stderr",
     "output_type": "stream",
     "text": [
      "100%|██████████| 30/30 [00:00<00:00, 115.72it/s]\n",
      "  7%|▋         | 2/30 [00:00<00:01, 19.49it/s]"
     ]
    },
    {
     "name": "stdout",
     "output_type": "stream",
     "text": [
      "\n",
      "FID: 84.8348\n",
      "Time: 0.15 min\n",
      "\n",
      "-- Partial --\n",
      "Best Epoch: epoch-121\n",
      "Best FID: 70.6784\n",
      "\n",
      "--------------------------------\n",
      "\n",
      "Epoch: 161\n"
     ]
    },
    {
     "name": "stderr",
     "output_type": "stream",
     "text": [
      "100%|██████████| 30/30 [00:00<00:00, 107.57it/s]\n",
      " 50%|█████     | 15/30 [00:00<00:00, 132.35it/s]"
     ]
    },
    {
     "name": "stdout",
     "output_type": "stream",
     "text": [
      "\n",
      "FID: 75.6603\n",
      "Time: 0.15 min\n",
      "\n",
      "-- Partial --\n",
      "Best Epoch: epoch-121\n",
      "Best FID: 70.6784\n",
      "\n",
      "--------------------------------\n",
      "\n",
      "Epoch: 162\n"
     ]
    },
    {
     "name": "stderr",
     "output_type": "stream",
     "text": [
      "100%|██████████| 30/30 [00:00<00:00, 133.88it/s]\n",
      "  7%|▋         | 2/30 [00:00<00:01, 16.97it/s]"
     ]
    },
    {
     "name": "stdout",
     "output_type": "stream",
     "text": [
      "\n",
      "FID: 83.0290\n",
      "Time: 0.14 min\n",
      "\n",
      "-- Partial --\n",
      "Best Epoch: epoch-121\n",
      "Best FID: 70.6784\n",
      "\n",
      "--------------------------------\n",
      "\n",
      "Epoch: 163\n"
     ]
    },
    {
     "name": "stderr",
     "output_type": "stream",
     "text": [
      "100%|██████████| 30/30 [00:00<00:00, 99.57it/s]\n",
      " 20%|██        | 6/30 [00:00<00:00, 54.26it/s]"
     ]
    },
    {
     "name": "stdout",
     "output_type": "stream",
     "text": [
      "\n",
      "FID: 80.9481\n",
      "Time: 0.15 min\n",
      "\n",
      "-- Partial --\n",
      "Best Epoch: epoch-121\n",
      "Best FID: 70.6784\n",
      "\n",
      "--------------------------------\n",
      "\n",
      "Epoch: 164\n"
     ]
    },
    {
     "name": "stderr",
     "output_type": "stream",
     "text": [
      "100%|██████████| 30/30 [00:00<00:00, 103.22it/s]\n",
      " 37%|███▋      | 11/30 [00:00<00:00, 109.65it/s]"
     ]
    },
    {
     "name": "stdout",
     "output_type": "stream",
     "text": [
      "\n",
      "FID: 75.2290\n",
      "Time: 0.15 min\n",
      "\n",
      "-- Partial --\n",
      "Best Epoch: epoch-121\n",
      "Best FID: 70.6784\n",
      "\n",
      "--------------------------------\n",
      "\n",
      "Epoch: 165\n"
     ]
    },
    {
     "name": "stderr",
     "output_type": "stream",
     "text": [
      "100%|██████████| 30/30 [00:00<00:00, 103.43it/s]\n",
      " 57%|█████▋    | 17/30 [00:00<00:00, 75.19it/s]"
     ]
    },
    {
     "name": "stdout",
     "output_type": "stream",
     "text": [
      "\n",
      "FID: 67.8370\n",
      "Time: 0.14 min\n",
      "\n",
      "-- Partial --\n",
      "Best Epoch: epoch-165\n",
      "Best FID: 67.8370\n",
      "\n",
      "--------------------------------\n",
      "\n",
      "Epoch: 166\n"
     ]
    },
    {
     "name": "stderr",
     "output_type": "stream",
     "text": [
      "100%|██████████| 30/30 [00:00<00:00, 92.97it/s]\n",
      " 53%|█████▎    | 16/30 [00:00<00:00, 154.04it/s]"
     ]
    },
    {
     "name": "stdout",
     "output_type": "stream",
     "text": [
      "\n",
      "FID: 83.3233\n",
      "Time: 0.15 min\n",
      "\n",
      "-- Partial --\n",
      "Best Epoch: epoch-165\n",
      "Best FID: 67.8370\n",
      "\n",
      "--------------------------------\n",
      "\n",
      "Epoch: 167\n"
     ]
    },
    {
     "name": "stderr",
     "output_type": "stream",
     "text": [
      "100%|██████████| 30/30 [00:00<00:00, 144.51it/s]\n",
      " 50%|█████     | 15/30 [00:00<00:00, 126.36it/s]"
     ]
    },
    {
     "name": "stdout",
     "output_type": "stream",
     "text": [
      "\n",
      "FID: 80.5529\n",
      "Time: 0.15 min\n",
      "\n",
      "-- Partial --\n",
      "Best Epoch: epoch-165\n",
      "Best FID: 67.8370\n",
      "\n",
      "--------------------------------\n",
      "\n",
      "Epoch: 168\n"
     ]
    },
    {
     "name": "stderr",
     "output_type": "stream",
     "text": [
      "100%|██████████| 30/30 [00:00<00:00, 138.22it/s]\n",
      " 20%|██        | 6/30 [00:00<00:00, 59.04it/s]"
     ]
    },
    {
     "name": "stdout",
     "output_type": "stream",
     "text": [
      "\n",
      "FID: 88.6146\n",
      "Time: 0.15 min\n",
      "\n",
      "-- Partial --\n",
      "Best Epoch: epoch-165\n",
      "Best FID: 67.8370\n",
      "\n",
      "--------------------------------\n",
      "\n",
      "Epoch: 169\n"
     ]
    },
    {
     "name": "stderr",
     "output_type": "stream",
     "text": [
      "100%|██████████| 30/30 [00:00<00:00, 108.10it/s]\n",
      "  7%|▋         | 2/30 [00:00<00:01, 17.68it/s]"
     ]
    },
    {
     "name": "stdout",
     "output_type": "stream",
     "text": [
      "\n",
      "FID: 84.4461\n",
      "Time: 0.15 min\n",
      "\n",
      "-- Partial --\n",
      "Best Epoch: epoch-165\n",
      "Best FID: 67.8370\n",
      "\n",
      "--------------------------------\n",
      "\n",
      "Epoch: 170\n"
     ]
    },
    {
     "name": "stderr",
     "output_type": "stream",
     "text": [
      "100%|██████████| 30/30 [00:00<00:00, 107.09it/s]\n",
      " 47%|████▋     | 14/30 [00:00<00:00, 115.60it/s]"
     ]
    },
    {
     "name": "stdout",
     "output_type": "stream",
     "text": [
      "\n",
      "FID: 88.9635\n",
      "Time: 0.15 min\n",
      "\n",
      "-- Partial --\n",
      "Best Epoch: epoch-165\n",
      "Best FID: 67.8370\n",
      "\n",
      "--------------------------------\n",
      "\n",
      "Epoch: 171\n"
     ]
    },
    {
     "name": "stderr",
     "output_type": "stream",
     "text": [
      "100%|██████████| 30/30 [00:00<00:00, 132.14it/s]\n",
      "  7%|▋         | 2/30 [00:00<00:01, 18.86it/s]"
     ]
    },
    {
     "name": "stdout",
     "output_type": "stream",
     "text": [
      "\n",
      "FID: 80.3832\n",
      "Time: 0.14 min\n",
      "\n",
      "-- Partial --\n",
      "Best Epoch: epoch-165\n",
      "Best FID: 67.8370\n",
      "\n",
      "--------------------------------\n",
      "\n",
      "Epoch: 172\n"
     ]
    },
    {
     "name": "stderr",
     "output_type": "stream",
     "text": [
      "100%|██████████| 30/30 [00:00<00:00, 110.85it/s]\n",
      " 67%|██████▋   | 20/30 [00:00<00:00, 198.31it/s]"
     ]
    },
    {
     "name": "stdout",
     "output_type": "stream",
     "text": [
      "\n",
      "FID: 88.2863\n",
      "Time: 0.15 min\n",
      "\n",
      "-- Partial --\n",
      "Best Epoch: epoch-165\n",
      "Best FID: 67.8370\n",
      "\n",
      "--------------------------------\n",
      "\n",
      "Epoch: 173\n"
     ]
    },
    {
     "name": "stderr",
     "output_type": "stream",
     "text": [
      "100%|██████████| 30/30 [00:00<00:00, 193.45it/s]\n",
      "  7%|▋         | 2/30 [00:00<00:01, 18.23it/s]"
     ]
    },
    {
     "name": "stdout",
     "output_type": "stream",
     "text": [
      "\n",
      "FID: 92.1634\n",
      "Time: 0.15 min\n",
      "\n",
      "-- Partial --\n",
      "Best Epoch: epoch-165\n",
      "Best FID: 67.8370\n",
      "\n",
      "--------------------------------\n",
      "\n",
      "Epoch: 174\n"
     ]
    },
    {
     "name": "stderr",
     "output_type": "stream",
     "text": [
      "100%|██████████| 30/30 [00:00<00:00, 118.02it/s]\n",
      " 27%|██▋       | 8/30 [00:00<00:00, 79.44it/s]"
     ]
    },
    {
     "name": "stdout",
     "output_type": "stream",
     "text": [
      "\n",
      "FID: 90.5838\n",
      "Time: 0.15 min\n",
      "\n",
      "-- Partial --\n",
      "Best Epoch: epoch-165\n",
      "Best FID: 67.8370\n",
      "\n",
      "--------------------------------\n",
      "\n",
      "Epoch: 175\n"
     ]
    },
    {
     "name": "stderr",
     "output_type": "stream",
     "text": [
      "100%|██████████| 30/30 [00:00<00:00, 137.52it/s]\n",
      " 17%|█▋        | 5/30 [00:00<00:00, 47.55it/s]"
     ]
    },
    {
     "name": "stdout",
     "output_type": "stream",
     "text": [
      "\n",
      "FID: 87.3889\n",
      "Time: 0.14 min\n",
      "\n",
      "-- Partial --\n",
      "Best Epoch: epoch-165\n",
      "Best FID: 67.8370\n",
      "\n",
      "--------------------------------\n",
      "\n",
      "Epoch: 176\n"
     ]
    },
    {
     "name": "stderr",
     "output_type": "stream",
     "text": [
      "100%|██████████| 30/30 [00:00<00:00, 140.94it/s]\n",
      "100%|██████████| 30/30 [00:00<00:00, 172.12it/s]"
     ]
    },
    {
     "name": "stdout",
     "output_type": "stream",
     "text": [
      "\n",
      "FID: 79.4293\n",
      "Time: 0.15 min\n",
      "\n",
      "-- Partial --\n",
      "Best Epoch: epoch-165\n",
      "Best FID: 67.8370\n",
      "\n",
      "--------------------------------\n",
      "\n",
      "Epoch: 177\n"
     ]
    },
    {
     "name": "stderr",
     "output_type": "stream",
     "text": [
      "\n",
      "  7%|▋         | 2/30 [00:00<00:01, 19.98it/s]"
     ]
    },
    {
     "name": "stdout",
     "output_type": "stream",
     "text": [
      "\n",
      "FID: 76.1549\n",
      "Time: 0.14 min\n",
      "\n",
      "-- Partial --\n",
      "Best Epoch: epoch-165\n",
      "Best FID: 67.8370\n",
      "\n",
      "--------------------------------\n",
      "\n",
      "Epoch: 178\n"
     ]
    },
    {
     "name": "stderr",
     "output_type": "stream",
     "text": [
      "100%|██████████| 30/30 [00:00<00:00, 137.71it/s]\n",
      "100%|██████████| 30/30 [00:00<00:00, 264.89it/s]"
     ]
    },
    {
     "name": "stdout",
     "output_type": "stream",
     "text": [
      "\n",
      "FID: 80.0625\n",
      "Time: 0.14 min\n",
      "\n",
      "-- Partial --\n",
      "Best Epoch: epoch-165\n",
      "Best FID: 67.8370\n",
      "\n",
      "--------------------------------\n",
      "\n",
      "Epoch: 179\n"
     ]
    },
    {
     "name": "stderr",
     "output_type": "stream",
     "text": [
      "\n",
      " 63%|██████▎   | 19/30 [00:00<00:00, 174.97it/s]"
     ]
    },
    {
     "name": "stdout",
     "output_type": "stream",
     "text": [
      "\n",
      "FID: 69.0624\n",
      "Time: 0.14 min\n",
      "\n",
      "-- Partial --\n",
      "Best Epoch: epoch-165\n",
      "Best FID: 67.8370\n",
      "\n",
      "--------------------------------\n",
      "\n",
      "Epoch: 180\n"
     ]
    },
    {
     "name": "stderr",
     "output_type": "stream",
     "text": [
      "100%|██████████| 30/30 [00:00<00:00, 155.95it/s]\n",
      " 40%|████      | 12/30 [00:00<00:00, 111.69it/s]"
     ]
    },
    {
     "name": "stdout",
     "output_type": "stream",
     "text": [
      "\n",
      "FID: 82.7404\n",
      "Time: 0.15 min\n",
      "\n",
      "-- Partial --\n",
      "Best Epoch: epoch-165\n",
      "Best FID: 67.8370\n",
      "\n",
      "--------------------------------\n",
      "\n",
      "Epoch: 181\n"
     ]
    },
    {
     "name": "stderr",
     "output_type": "stream",
     "text": [
      "100%|██████████| 30/30 [00:00<00:00, 167.10it/s]\n",
      " 83%|████████▎ | 25/30 [00:00<00:00, 216.86it/s]"
     ]
    },
    {
     "name": "stdout",
     "output_type": "stream",
     "text": [
      "\n",
      "FID: 76.9849\n",
      "Time: 0.14 min\n",
      "\n",
      "-- Partial --\n",
      "Best Epoch: epoch-165\n",
      "Best FID: 67.8370\n",
      "\n",
      "--------------------------------\n",
      "\n",
      "Epoch: 182\n"
     ]
    },
    {
     "name": "stderr",
     "output_type": "stream",
     "text": [
      "100%|██████████| 30/30 [00:00<00:00, 219.49it/s]\n",
      "100%|██████████| 30/30 [00:00<00:00, 221.20it/s]"
     ]
    },
    {
     "name": "stdout",
     "output_type": "stream",
     "text": [
      "\n",
      "FID: 79.0369\n",
      "Time: 0.14 min\n",
      "\n",
      "-- Partial --\n",
      "Best Epoch: epoch-165\n",
      "Best FID: 67.8370\n",
      "\n",
      "--------------------------------\n",
      "\n",
      "Epoch: 183\n"
     ]
    },
    {
     "name": "stderr",
     "output_type": "stream",
     "text": [
      "\n",
      "100%|██████████| 30/30 [00:00<00:00, 252.36it/s]"
     ]
    },
    {
     "name": "stdout",
     "output_type": "stream",
     "text": [
      "\n",
      "FID: 80.7830\n",
      "Time: 0.14 min\n",
      "\n",
      "-- Partial --\n",
      "Best Epoch: epoch-165\n",
      "Best FID: 67.8370\n",
      "\n",
      "--------------------------------\n",
      "\n",
      "Epoch: 184\n"
     ]
    },
    {
     "name": "stderr",
     "output_type": "stream",
     "text": [
      "\n",
      " 17%|█▋        | 5/30 [00:00<00:00, 44.51it/s]"
     ]
    },
    {
     "name": "stdout",
     "output_type": "stream",
     "text": [
      "\n",
      "FID: 85.7711\n",
      "Time: 0.14 min\n",
      "\n",
      "-- Partial --\n",
      "Best Epoch: epoch-165\n",
      "Best FID: 67.8370\n",
      "\n",
      "--------------------------------\n",
      "\n",
      "Epoch: 185\n"
     ]
    },
    {
     "name": "stderr",
     "output_type": "stream",
     "text": [
      "100%|██████████| 30/30 [00:00<00:00, 119.91it/s]\n",
      "100%|██████████| 30/30 [00:00<00:00, 166.18it/s]"
     ]
    },
    {
     "name": "stdout",
     "output_type": "stream",
     "text": [
      "\n",
      "FID: 84.1412\n",
      "Time: 0.14 min\n",
      "\n",
      "-- Partial --\n",
      "Best Epoch: epoch-165\n",
      "Best FID: 67.8370\n",
      "\n",
      "--------------------------------\n",
      "\n",
      "Epoch: 186\n"
     ]
    },
    {
     "name": "stderr",
     "output_type": "stream",
     "text": [
      "\n",
      " 17%|█▋        | 5/30 [00:00<00:00, 49.86it/s]"
     ]
    },
    {
     "name": "stdout",
     "output_type": "stream",
     "text": [
      "\n",
      "FID: 77.4753\n",
      "Time: 0.15 min\n",
      "\n",
      "-- Partial --\n",
      "Best Epoch: epoch-165\n",
      "Best FID: 67.8370\n",
      "\n",
      "--------------------------------\n",
      "\n",
      "Epoch: 187\n"
     ]
    },
    {
     "name": "stderr",
     "output_type": "stream",
     "text": [
      "100%|██████████| 30/30 [00:00<00:00, 155.92it/s]\n",
      " 50%|█████     | 15/30 [00:00<00:00, 142.11it/s]"
     ]
    },
    {
     "name": "stdout",
     "output_type": "stream",
     "text": [
      "\n",
      "FID: 79.6805\n",
      "Time: 0.14 min\n",
      "\n",
      "-- Partial --\n",
      "Best Epoch: epoch-165\n",
      "Best FID: 67.8370\n",
      "\n",
      "--------------------------------\n",
      "\n",
      "Epoch: 188\n"
     ]
    },
    {
     "name": "stderr",
     "output_type": "stream",
     "text": [
      "100%|██████████| 30/30 [00:00<00:00, 135.52it/s]\n",
      " 27%|██▋       | 8/30 [00:00<00:00, 74.92it/s]"
     ]
    },
    {
     "name": "stdout",
     "output_type": "stream",
     "text": [
      "\n",
      "FID: 83.3953\n",
      "Time: 0.14 min\n",
      "\n",
      "-- Partial --\n",
      "Best Epoch: epoch-165\n",
      "Best FID: 67.8370\n",
      "\n",
      "--------------------------------\n",
      "\n",
      "Epoch: 189\n"
     ]
    },
    {
     "name": "stderr",
     "output_type": "stream",
     "text": [
      "100%|██████████| 30/30 [00:00<00:00, 129.00it/s]\n",
      "100%|██████████| 30/30 [00:00<00:00, 201.34it/s]"
     ]
    },
    {
     "name": "stdout",
     "output_type": "stream",
     "text": [
      "\n",
      "FID: 78.4287\n",
      "Time: 0.15 min\n",
      "\n",
      "-- Partial --\n",
      "Best Epoch: epoch-165\n",
      "Best FID: 67.8370\n",
      "\n",
      "--------------------------------\n",
      "\n",
      "Epoch: 190\n"
     ]
    },
    {
     "name": "stderr",
     "output_type": "stream",
     "text": [
      "\n",
      " 13%|█▎        | 4/30 [00:00<00:00, 35.38it/s]"
     ]
    },
    {
     "name": "stdout",
     "output_type": "stream",
     "text": [
      "\n",
      "FID: 88.5604\n",
      "Time: 0.14 min\n",
      "\n",
      "-- Partial --\n",
      "Best Epoch: epoch-165\n",
      "Best FID: 67.8370\n",
      "\n",
      "--------------------------------\n",
      "\n",
      "Epoch: 191\n"
     ]
    },
    {
     "name": "stderr",
     "output_type": "stream",
     "text": [
      "100%|██████████| 30/30 [00:00<00:00, 126.01it/s]\n",
      "100%|██████████| 30/30 [00:00<00:00, 193.54it/s]"
     ]
    },
    {
     "name": "stdout",
     "output_type": "stream",
     "text": [
      "\n",
      "FID: 78.1612\n",
      "Time: 0.15 min\n",
      "\n",
      "-- Partial --\n",
      "Best Epoch: epoch-165\n",
      "Best FID: 67.8370\n",
      "\n",
      "--------------------------------\n",
      "\n",
      "Epoch: 192\n"
     ]
    },
    {
     "name": "stderr",
     "output_type": "stream",
     "text": [
      "\n",
      "100%|██████████| 30/30 [00:00<00:00, 219.48it/s]"
     ]
    },
    {
     "name": "stdout",
     "output_type": "stream",
     "text": [
      "\n",
      "FID: 88.6513\n",
      "Time: 0.14 min\n",
      "\n",
      "-- Partial --\n",
      "Best Epoch: epoch-165\n",
      "Best FID: 67.8370\n",
      "\n",
      "--------------------------------\n",
      "\n",
      "Epoch: 193\n"
     ]
    },
    {
     "name": "stderr",
     "output_type": "stream",
     "text": [
      "\n",
      "100%|██████████| 30/30 [00:00<00:00, 240.62it/s]"
     ]
    },
    {
     "name": "stdout",
     "output_type": "stream",
     "text": [
      "\n",
      "FID: 83.3031\n",
      "Time: 0.14 min\n",
      "\n",
      "-- Partial --\n",
      "Best Epoch: epoch-165\n",
      "Best FID: 67.8370\n",
      "\n",
      "--------------------------------\n",
      "\n",
      "Epoch: 194\n"
     ]
    },
    {
     "name": "stderr",
     "output_type": "stream",
     "text": [
      "\n",
      " 53%|█████▎    | 16/30 [00:00<00:00, 158.72it/s]"
     ]
    },
    {
     "name": "stdout",
     "output_type": "stream",
     "text": [
      "\n",
      "FID: 82.6737\n",
      "Time: 0.14 min\n",
      "\n",
      "-- Partial --\n",
      "Best Epoch: epoch-165\n",
      "Best FID: 67.8370\n",
      "\n",
      "--------------------------------\n",
      "\n",
      "Epoch: 195\n"
     ]
    },
    {
     "name": "stderr",
     "output_type": "stream",
     "text": [
      "100%|██████████| 30/30 [00:00<00:00, 161.88it/s]\n",
      "100%|██████████| 30/30 [00:00<00:00, 291.59it/s]"
     ]
    },
    {
     "name": "stdout",
     "output_type": "stream",
     "text": [
      "\n",
      "FID: 90.8647\n",
      "Time: 0.14 min\n",
      "\n",
      "-- Partial --\n",
      "Best Epoch: epoch-165\n",
      "Best FID: 67.8370\n",
      "\n",
      "--------------------------------\n",
      "\n",
      "Epoch: 196\n"
     ]
    },
    {
     "name": "stderr",
     "output_type": "stream",
     "text": [
      "\n",
      "100%|██████████| 30/30 [00:00<00:00, 240.77it/s]"
     ]
    },
    {
     "name": "stdout",
     "output_type": "stream",
     "text": [
      "\n",
      "FID: 88.3678\n",
      "Time: 0.14 min\n",
      "\n",
      "-- Partial --\n",
      "Best Epoch: epoch-165\n",
      "Best FID: 67.8370\n",
      "\n",
      "--------------------------------\n",
      "\n",
      "Epoch: 197\n"
     ]
    },
    {
     "name": "stderr",
     "output_type": "stream",
     "text": [
      "\n",
      "100%|██████████| 30/30 [00:00<00:00, 328.57it/s]"
     ]
    },
    {
     "name": "stdout",
     "output_type": "stream",
     "text": [
      "\n",
      "FID: 80.3015\n",
      "Time: 0.14 min\n",
      "\n",
      "-- Partial --\n",
      "Best Epoch: epoch-165\n",
      "Best FID: 67.8370\n",
      "\n",
      "--------------------------------\n",
      "\n",
      "Epoch: 198\n"
     ]
    },
    {
     "name": "stderr",
     "output_type": "stream",
     "text": [
      "\n",
      "100%|██████████| 30/30 [00:00<00:00, 224.62it/s]"
     ]
    },
    {
     "name": "stdout",
     "output_type": "stream",
     "text": [
      "\n",
      "FID: 82.6047\n",
      "Time: 0.14 min\n",
      "\n",
      "-- Partial --\n",
      "Best Epoch: epoch-165\n",
      "Best FID: 67.8370\n",
      "\n",
      "--------------------------------\n",
      "\n",
      "Epoch: 199\n"
     ]
    },
    {
     "name": "stderr",
     "output_type": "stream",
     "text": [
      "\n",
      "100%|██████████| 30/30 [00:00<00:00, 204.80it/s]"
     ]
    },
    {
     "name": "stdout",
     "output_type": "stream",
     "text": [
      "\n",
      "FID: 77.5372\n",
      "Time: 0.14 min\n",
      "\n",
      "-- Partial --\n",
      "Best Epoch: epoch-165\n",
      "Best FID: 67.8370\n",
      "\n",
      "--------------------------------\n",
      "\n",
      "Epoch: 200\n"
     ]
    },
    {
     "name": "stderr",
     "output_type": "stream",
     "text": [
      "\n"
     ]
    },
    {
     "name": "stdout",
     "output_type": "stream",
     "text": [
      "\n",
      "FID: 88.0992\n",
      "Time: 0.14 min\n",
      "\n",
      "-- Partial --\n",
      "Best Epoch: epoch-165\n",
      "Best FID: 67.8370\n",
      "\n",
      "----------------------------------------------------\n",
      "Finalized\n",
      "Notebook Time: 3.5e+01 min\n",
      "Best Epoch: epoch-165\n",
      "Best FID: 67.8370\n"
     ]
    }
   ],
   "source": [
    "# example of calculating the frechet inception distance in Keras\n",
    "import numpy\n",
    "from numpy import cov\n",
    "from numpy import trace\n",
    "from numpy import iscomplexobj\n",
    "from numpy import asarray\n",
    "from numpy.random import randint\n",
    "from scipy.linalg import sqrtm\n",
    "from keras.applications.inception_v3 import InceptionV3\n",
    "from keras.applications.inception_v3 import preprocess_input\n",
    "from skimage.transform import resize\n",
    "\n",
    "# Daniel\n",
    "import os\n",
    "from tqdm import tqdm\n",
    "import cv2\n",
    "import numpy as np\n",
    "import time\n",
    "import gc\n",
    "\n",
    "lastTimeNotebook = time.time()\n",
    "\n",
    "def scale_images(images, new_shape):\n",
    "    \n",
    "    images_list = list()\n",
    "    for image in images:\n",
    "        \n",
    "        new_image = resize(image, new_shape, 0)\n",
    "        images_list.append(new_image)\n",
    "        \n",
    "    return asarray(images_list)\n",
    "\n",
    "def calculate_fid(model, images1, mu2, sigma2):\n",
    "    \n",
    "    # calculate activations\n",
    "    act1 = model.predict(images1)\n",
    "    \n",
    "    # calculate mean and covariance statistics\n",
    "    mu1, sigma1 = act1.mean(axis=0), cov(act1, rowvar=False)\n",
    "    \n",
    "    # calculate sum squared difference between means\n",
    "    ssdiff = numpy.sum((mu1 - mu2)**2.0)\n",
    "    \n",
    "    # Daniel\n",
    "    sigma1 = np.array(sigma1, ndmin=2) # https://stackoverflow.com/questions/31698242/python-how-can-i-force-1-element-numpy-arrays-to-be-two-dimensional\n",
    "    \n",
    "    # calculate sqrt of product between cov\n",
    "    covmean = sqrtm(sigma1.dot(sigma2))\n",
    "    \n",
    "    # check and correct imaginary numbers from sqrt\n",
    "    if iscomplexobj(covmean):\n",
    "        covmean = covmean.real\n",
    "        \n",
    "    # calculate score\n",
    "    fid = ssdiff + trace(sigma1 + sigma2 - 2.0 * covmean)\n",
    "    \n",
    "    return fid\n",
    "\n",
    "def loadImages(folder):\n",
    "    \n",
    "    path, dirs, files = next( os.walk( folder ) )\n",
    "\n",
    "    images = []\n",
    "    contador = 0\n",
    "    for file in tqdm(files):\n",
    "\n",
    "        image = cv2.imread( folder + file )\n",
    "        images.append( image )\n",
    "        contador += 1\n",
    "        \n",
    "    images = np.asarray(images)\n",
    "    return images\n",
    "\n",
    "def compareTwoGroups(model, images1, mu2, sigma2):\n",
    "\n",
    "    # convert integer to floating point values\n",
    "    images1 = images1.astype('float32')\n",
    "    \n",
    "    # resize images\n",
    "    images1 = scale_images(images1, (299,299,3))\n",
    "\n",
    "    # pre-process images\n",
    "    images1 = preprocess_input(images1)\n",
    "\n",
    "    # fid between images1 and images2\n",
    "    fid = calculate_fid(model, images1, mu2, sigma2)\n",
    "    \n",
    "    return fid\n",
    "\n",
    "# ---\n",
    "\n",
    "print( '\\nProcessing...' )\n",
    "\n",
    "# prepare the inception v3 model\n",
    "model = InceptionV3(include_top=False, pooling='avg', input_shape=(299,299,3))\n",
    "\n",
    "# Real Images used in training\n",
    "realImages = loadImages(padronizedFolder)\n",
    "gc.collect()\n",
    "realImages = realImages.astype('float32')\n",
    "gc.collect()\n",
    "realImages = scale_images(realImages, (299,299,3))\n",
    "gc.collect()\n",
    "realImages = preprocess_input(realImages)\n",
    "gc.collect()\n",
    "\n",
    "act2 = model.predict(realImages)\n",
    "gc.collect()\n",
    "mu2, sigma2 = act2.mean(axis=0), cov(act2, rowvar=False)\n",
    "gc.collect()\n",
    "sigma2 = np.array(sigma2, ndmin=2) # https://stackoverflow.com/questions/31698242/python-how-can-i-force-1-element-numpy-arrays-to-be-two-dimensional\n",
    "gc.collect()\n",
    "\n",
    "epochsFolders = os.listdir(generatedFolder)\n",
    "totalEpochs = len(epochsFolders)\n",
    "\n",
    "bestEpoch = ''\n",
    "bestFID = 9999\n",
    "\n",
    "lastTime = time.time()\n",
    "for i in range(1, totalEpochs + 1):\n",
    "\n",
    "    print('\\n--------------------------------\\n')\n",
    "    print(f'Epoch: {i}')\n",
    "    \n",
    "    epoch = 'epoch-' + str(i)\n",
    "    generatedImages = loadImages( f'{generatedFolder}/{epoch}/' )\n",
    "\n",
    "    fid = compareTwoGroups(model, generatedImages, mu2, sigma2)\n",
    "\n",
    "    print()\n",
    "    print('FID: %.4f' % fid)\n",
    "\n",
    "    if fid < bestFID:\n",
    "        bestFID = fid\n",
    "        bestEpoch = epoch\n",
    "        \n",
    "    # Time\n",
    "    now = time.time()\n",
    "    interval = now - lastTime\n",
    "    lastTime = now\n",
    "    print('Time: %.2f min' % (interval / 60))\n",
    "    print()\n",
    "    print('-- Partial --')\n",
    "    print(f'Best Epoch: {bestEpoch}')\n",
    "    print('Best FID: %.4f' % bestFID)\n",
    "\n",
    "\n",
    "print( '\\n----------------------------------------------------' )\n",
    "print( 'Finalized' )\n",
    "\n",
    "# Time\n",
    "now = time.time()\n",
    "interval = now - lastTimeNotebook\n",
    "print(f'Notebook Time: {(interval / 60):.2} min')\n",
    "\n",
    "print(f'Best Epoch: {bestEpoch}')\n",
    "print('Best FID: %.4f' % bestFID)"
   ]
  }
 ],
 "metadata": {
  "kernelspec": {
   "display_name": "Python 3",
   "language": "python",
   "name": "python3"
  },
  "language_info": {
   "codemirror_mode": {
    "name": "ipython",
    "version": 3
   },
   "file_extension": ".py",
   "mimetype": "text/x-python",
   "name": "python",
   "nbconvert_exporter": "python",
   "pygments_lexer": "ipython3",
   "version": "3.7.7"
  }
 },
 "nbformat": 4,
 "nbformat_minor": 4
}
